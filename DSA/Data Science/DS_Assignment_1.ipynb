{
 "cells": [
  {
   "cell_type": "markdown",
   "id": "58c13975",
   "metadata": {},
   "source": [
    "### 1. Write a Python program to reverse a string without using any built-in string reversal functions."
   ]
  },
  {
   "cell_type": "code",
   "execution_count": 1,
   "id": "50cb79ce",
   "metadata": {},
   "outputs": [
    {
     "data": {
      "text/plain": [
       "'olleH'"
      ]
     },
     "execution_count": 1,
     "metadata": {},
     "output_type": "execute_result"
    }
   ],
   "source": [
    "string = \"Hello\"\n",
    "\n",
    "def revStr(string):\n",
    "    reverseStr = \"\"\n",
    "    for i in string:\n",
    "        reverseStr=i+reverseStr\n",
    "    \n",
    "    return reverseStr\n",
    "\n",
    "revStr(string)"
   ]
  },
  {
   "cell_type": "markdown",
   "id": "2cf312b2",
   "metadata": {},
   "source": [
    "### 2. Implement a function to check if a given string is a palindrome."
   ]
  },
  {
   "cell_type": "code",
   "execution_count": 2,
   "id": "04e392d9",
   "metadata": {},
   "outputs": [
    {
     "name": "stdout",
     "output_type": "stream",
     "text": [
      "The given string is a palindrome\n"
     ]
    }
   ],
   "source": [
    "def checkPalindrome(string):\n",
    "    revStr = string[::-1].lower()\n",
    "    if string.lower() == revStr :\n",
    "        print(\"The given string is a palindrome\")\n",
    "    else :\n",
    "        print(\"The string is not a palindrome\")\n",
    "\n",
    "string = \"madam\"        \n",
    "checkPalindrome(string)"
   ]
  },
  {
   "cell_type": "markdown",
   "id": "97ebfeb2",
   "metadata": {},
   "source": [
    "### 3. Write a program to find the largest element in a given list."
   ]
  },
  {
   "cell_type": "code",
   "execution_count": 3,
   "id": "71774081",
   "metadata": {},
   "outputs": [
    {
     "data": {
      "text/plain": [
       "6"
      ]
     },
     "execution_count": 3,
     "metadata": {},
     "output_type": "execute_result"
    }
   ],
   "source": [
    "def maxNum(List) :\n",
    "    \n",
    "    return max(List)\n",
    "\n",
    "a = [1,4,2,5,6]\n",
    "maxNum(a)"
   ]
  },
  {
   "cell_type": "markdown",
   "id": "2bbb6262",
   "metadata": {},
   "source": [
    "### 4. Implement a function to count the occurrence of each element in a list."
   ]
  },
  {
   "cell_type": "code",
   "execution_count": 4,
   "id": "4e21b624",
   "metadata": {},
   "outputs": [
    {
     "data": {
      "text/plain": [
       "{1: 2, 2: 2, 3: 2, 4: 1, 5: 1, 6: 1, 7: 1, 8: 1, 9: 1, 10: 1}"
      ]
     },
     "execution_count": 4,
     "metadata": {},
     "output_type": "execute_result"
    }
   ],
   "source": [
    "def countOccurrences(list_input):\n",
    "    occurrenceCounts = {}\n",
    "    for element in list_input:\n",
    "        if element in occurrenceCounts:\n",
    "            occurrenceCounts[element] += 1\n",
    "        else:\n",
    "            occurrenceCounts[element] = 1\n",
    "    return occurrenceCounts\n",
    "\n",
    "listInput = [1, 2, 3, 1, 2, 3, 4, 5, 6, 7, 8, 9, 10]\n",
    "countOccurrences(listInput)"
   ]
  },
  {
   "cell_type": "markdown",
   "id": "e65fd8be",
   "metadata": {},
   "source": [
    "### 5. Write a Python program to find the second largest number in a list."
   ]
  },
  {
   "cell_type": "code",
   "execution_count": 5,
   "id": "d2829efc",
   "metadata": {},
   "outputs": [
    {
     "data": {
      "text/plain": [
       "34"
      ]
     },
     "execution_count": 5,
     "metadata": {},
     "output_type": "execute_result"
    }
   ],
   "source": [
    "def secondLargest(List) :\n",
    "    \n",
    "    a = sorted(List)\n",
    "    return a[-2]\n",
    "\n",
    "List = [1,3,6,2,7,5,21,34,23,43]\n",
    "secondLargest(List)"
   ]
  },
  {
   "cell_type": "markdown",
   "id": "453af226",
   "metadata": {},
   "source": [
    "### 6. Implement a function to remove duplicate elements from a list."
   ]
  },
  {
   "cell_type": "code",
   "execution_count": 6,
   "id": "2a97c758",
   "metadata": {},
   "outputs": [
    {
     "name": "stdout",
     "output_type": "stream",
     "text": [
      "[1, 2, 3, 4, 5, 6, 7, 8, 9]\n",
      "\n"
     ]
    },
    {
     "data": {
      "text/plain": [
       "[1, 2, 3, 4, 5, 6, 8, 7, 9]"
      ]
     },
     "execution_count": 6,
     "metadata": {},
     "output_type": "execute_result"
    }
   ],
   "source": [
    "List = [1,2,3,4,2,5,1,3,2,5,3,1,6,3,8,7,6,9]\n",
    "a = set(List)\n",
    "newList1 = list(a)\n",
    "print(newList1)\n",
    "print()\n",
    "\n",
    "def removeDuplicate(List):\n",
    "\n",
    "    newList2 = []\n",
    "    for i in List:\n",
    "        if i in newList2 :\n",
    "            continue\n",
    "        else :\n",
    "            newList2.append(i)\n",
    "    return newList2\n",
    "\n",
    "List = [1,2,3,4,2,5,1,3,2,5,3,1,6,3,8,7,6,9]\n",
    "removeDuplicate(List)"
   ]
  },
  {
   "cell_type": "markdown",
   "id": "6de610b2",
   "metadata": {},
   "source": [
    "### 7. Write a program to calculate the factorial of a given number."
   ]
  },
  {
   "cell_type": "code",
   "execution_count": 7,
   "id": "b8feaed5",
   "metadata": {},
   "outputs": [
    {
     "data": {
      "text/plain": [
       "120"
      ]
     },
     "execution_count": 7,
     "metadata": {},
     "output_type": "execute_result"
    }
   ],
   "source": [
    "def factorial(n):\n",
    "    \n",
    "    if n == 0:\n",
    "        return 1\n",
    "    else:\n",
    "        return n * factorial(n - 1)\n",
    "\n",
    "\n",
    "factorial(5)"
   ]
  },
  {
   "cell_type": "markdown",
   "id": "15250702",
   "metadata": {},
   "source": [
    "### 8. Implement a function to check if a given number is prime"
   ]
  },
  {
   "cell_type": "code",
   "execution_count": 8,
   "id": "95cb5e77",
   "metadata": {},
   "outputs": [
    {
     "data": {
      "text/plain": [
       "True"
      ]
     },
     "execution_count": 8,
     "metadata": {},
     "output_type": "execute_result"
    }
   ],
   "source": [
    "import math\n",
    "\n",
    "def isPrime(n):\n",
    "    if n < 2:\n",
    "        return False\n",
    "    \n",
    "    for i in range(2, int(math.sqrt(n)) + 1):\n",
    "        if n % i == 0:\n",
    "            return False\n",
    "    \n",
    "    return True\n",
    "\n",
    "isPrime(5)"
   ]
  },
  {
   "cell_type": "markdown",
   "id": "7ca61dc1",
   "metadata": {},
   "source": [
    "### 9. Write a Python program to sort a list of integers in ascending order."
   ]
  },
  {
   "cell_type": "code",
   "execution_count": 9,
   "id": "03d3c577",
   "metadata": {},
   "outputs": [
    {
     "name": "stdout",
     "output_type": "stream",
     "text": [
      "[1, 2, 3, 6, 8, 9]\n",
      "\n",
      "[1, 2, 3, 6, 8, 9]\n"
     ]
    }
   ],
   "source": [
    "def selectionSort(arr):\n",
    "    n = len(arr)\n",
    "    \n",
    "    for i in range(n - 1):\n",
    "        minIndex = i\n",
    "        for j in range(i + 1, n):\n",
    "            if arr[j] < arr[minIndex]:\n",
    "                minIndex = j\n",
    "        \n",
    "        arr[i], arr[minIndex] = arr[minIndex], arr[i]\n",
    "    \n",
    "    return arr\n",
    "\n",
    "n = [1,2,6,3,8,9]\n",
    "print(selectionSort(n))\n",
    "print()\n",
    "print(sorted(n))"
   ]
  },
  {
   "cell_type": "markdown",
   "id": "c4f5c99d",
   "metadata": {},
   "source": [
    "### 10. Implement a function to find the sum of all numbers in a list"
   ]
  },
  {
   "cell_type": "code",
   "execution_count": 10,
   "id": "2191dcb5",
   "metadata": {},
   "outputs": [
    {
     "data": {
      "text/plain": [
       "40"
      ]
     },
     "execution_count": 10,
     "metadata": {},
     "output_type": "execute_result"
    }
   ],
   "source": [
    "def sumList(List):\n",
    "    summation = 0\n",
    "    for i in List:\n",
    "        summation=summation+i\n",
    "    \n",
    "    return summation\n",
    "\n",
    "List = [1,3,4,5,6,7,10,0,1,3]\n",
    "sumList(List)"
   ]
  },
  {
   "cell_type": "markdown",
   "id": "490dfbec",
   "metadata": {},
   "source": [
    "### 11. Write a program to find the common elements between two lists."
   ]
  },
  {
   "cell_type": "code",
   "execution_count": 11,
   "id": "f733c16a",
   "metadata": {},
   "outputs": [
    {
     "data": {
      "text/plain": [
       "[2, 4, 5, 6]"
      ]
     },
     "execution_count": 11,
     "metadata": {},
     "output_type": "execute_result"
    }
   ],
   "source": [
    "def commonElements(List1,List2) :\n",
    "    commEle = []\n",
    "    for i in List1:\n",
    "        if i in List2 :\n",
    "            commEle.append(i)\n",
    "    \n",
    "    return commEle\n",
    "\n",
    "List1 = [1,2,3,4,5,6,11]\n",
    "List2 = [4,5,6,7,8,9,2,10]\n",
    "commonElements(List1,List2)"
   ]
  },
  {
   "cell_type": "markdown",
   "id": "8c42ee18",
   "metadata": {},
   "source": [
    "### 12. Implement a function to check if a given string is an anagram of another string."
   ]
  },
  {
   "cell_type": "code",
   "execution_count": 12,
   "id": "b2689c2c",
   "metadata": {},
   "outputs": [
    {
     "name": "stdout",
     "output_type": "stream",
     "text": [
      "Counter({'a': 1, 'b': 1, 'c': 1})\n",
      "Counter({'b': 1, 'c': 1, 'a': 1})\n",
      "The strings are anagrams.\n"
     ]
    }
   ],
   "source": [
    "from collections import Counter\n",
    "\n",
    "def checkAnagram(s1, s2):\n",
    "    print(Counter(s1))\n",
    "    print(Counter(s2))\n",
    "    if Counter(s1) == Counter(s2):\n",
    "        print(\"The strings are anagrams.\")\n",
    "    else:\n",
    "        print(\"The strings aren't anagrams.\")\n",
    "\n",
    "s1 = \"abc\"\n",
    "s2 = \"bca\"\n",
    "checkAnagram(s1.lower(), s2.lower())"
   ]
  },
  {
   "cell_type": "markdown",
   "id": "562a0758",
   "metadata": {},
   "source": [
    "### 13. Write a Python program to generate all permutations of a given string."
   ]
  },
  {
   "cell_type": "code",
   "execution_count": 13,
   "id": "ace810cd",
   "metadata": {},
   "outputs": [
    {
     "name": "stdout",
     "output_type": "stream",
     "text": [
      "ABC\n",
      "ACB\n",
      "BAC\n",
      "BCA\n",
      "CBA\n",
      "CAB\n"
     ]
    }
   ],
   "source": [
    "def permuteString(string):\n",
    "    permutations = []\n",
    "    permuteHelper(string, 0, len(string) - 1, permutations)\n",
    "    return permutations\n",
    "\n",
    "\n",
    "def permuteHelper(string, start, end, permutations):\n",
    "    if start == end:\n",
    "        permutations.append(''.join(string))\n",
    "    else:\n",
    "        for i in range(start, end + 1):\n",
    "            string[start], string[i] = string[i], string[start]\n",
    "            permuteHelper(string, start + 1, end, permutations)\n",
    "            string[start], string[i] = string[i], string[start]\n",
    "\n",
    "string = \"ABC\"\n",
    "permutations = permuteString(list(string))\n",
    "for permutation in permutations:\n",
    "    print(permutation)"
   ]
  },
  {
   "cell_type": "markdown",
   "id": "ac5bcc06",
   "metadata": {},
   "source": [
    "### 14. Implement a function to calculate the Fibonacci sequence up to a given number of terms."
   ]
  },
  {
   "cell_type": "code",
   "execution_count": 14,
   "id": "213c4832",
   "metadata": {},
   "outputs": [
    {
     "data": {
      "text/plain": [
       "[0, 1, 1, 2, 3, 5, 8, 13, 21, 34]"
      ]
     },
     "execution_count": 14,
     "metadata": {},
     "output_type": "execute_result"
    }
   ],
   "source": [
    "def fibonacci(n):\n",
    "    sequence = [0, 1]\n",
    "\n",
    "    while len(sequence) < n:\n",
    "        nextNum = sequence[-1] + sequence[-2]\n",
    "        sequence.append(nextNum)\n",
    "\n",
    "    return sequence\n",
    "\n",
    "length = 10\n",
    "fibonacci(length)"
   ]
  },
  {
   "cell_type": "markdown",
   "id": "5de8c5bb",
   "metadata": {},
   "source": [
    "### 15. Write a program to find the median of a list of numbers."
   ]
  },
  {
   "cell_type": "code",
   "execution_count": 15,
   "id": "2d1a0880",
   "metadata": {},
   "outputs": [
    {
     "name": "stdout",
     "output_type": "stream",
     "text": [
      "4.5\n"
     ]
    }
   ],
   "source": [
    "def findMedian(numbers):\n",
    "    numbers.sort()  # Sort the list in ascending order\n",
    "    n = len(numbers)\n",
    "    if n % 2 == 1:\n",
    "        median = numbers[n // 2]  # Odd length: middle element\n",
    "    else:\n",
    "        middleRight = n // 2\n",
    "        middleLeft = middleRight - 1\n",
    "        median = (numbers[middleLeft] + numbers[middleRight]) / 2  # Even length: average of middle elements\n",
    "    return median\n",
    "\n",
    "numbers = [7, 2, 5, 1, 8, 4]\n",
    "median = findMedian(numbers)\n",
    "print(median)"
   ]
  },
  {
   "cell_type": "markdown",
   "id": "67a72faa",
   "metadata": {},
   "source": [
    "### 16. Implement a function to check if a given list is sorted in non-decreasing order."
   ]
  },
  {
   "cell_type": "code",
   "execution_count": 16,
   "id": "42a5daf9",
   "metadata": {},
   "outputs": [
    {
     "name": "stdout",
     "output_type": "stream",
     "text": [
      "The List is in Desending order\n"
     ]
    }
   ],
   "source": [
    "def desCheck(List):\n",
    "    \n",
    "    if List == sorted(List,reverse=True):\n",
    "        print(\"The List is in Desending order\")\n",
    "        \n",
    "    else:\n",
    "        print(\"The List is not sorted in Desending Order\")\n",
    "        \n",
    "List = [8,6,4,3,1]\n",
    "desCheck(List)"
   ]
  },
  {
   "cell_type": "markdown",
   "id": "92dbafae",
   "metadata": {},
   "source": [
    "### 17. Write a Python program to find the intersection of two lists."
   ]
  },
  {
   "cell_type": "code",
   "execution_count": 17,
   "id": "2962c8ef",
   "metadata": {},
   "outputs": [
    {
     "data": {
      "text/plain": [
       "[9, 10, 5, 4, 9]"
      ]
     },
     "execution_count": 17,
     "metadata": {},
     "output_type": "execute_result"
    }
   ],
   "source": [
    "def listIntersection(List1,List2) :\n",
    "    commonElements = []\n",
    "    for i in List1:\n",
    "        if i in List2 :\n",
    "            commonElements.append(i)\n",
    "    \n",
    "    return commonElements\n",
    "\n",
    "List1 = [15, 9, 10, 56, 23, 78, 5, 4, 9]\n",
    "List2 = [9, 4, 5, 36, 47, 26, 10, 45, 87]\n",
    "listIntersection(List1,List2)"
   ]
  },
  {
   "cell_type": "markdown",
   "id": "7881d007",
   "metadata": {},
   "source": [
    "### 18. Implement a function to find the maximum subarray sum in a given list. "
   ]
  },
  {
   "cell_type": "code",
   "execution_count": 18,
   "id": "893ea284",
   "metadata": {},
   "outputs": [
    {
     "name": "stdout",
     "output_type": "stream",
     "text": [
      "6\n"
     ]
    }
   ],
   "source": [
    "def maxSubarraySum(numbers):\n",
    "    if len(numbers) == 0:\n",
    "        return 0\n",
    "    \n",
    "    maxSum = numbers[0]\n",
    "    currentSum = numbers[0]\n",
    "    \n",
    "    for num in numbers[1:]:\n",
    "        currentSum = max(num, currentSum + num)\n",
    "        maxSum = max(maxSum, currentSum)\n",
    "    \n",
    "    return maxSum\n",
    "\n",
    "numbers = [-2, 1, -3, 4, -1, 2, 1, -5, 4]\n",
    "maxSum = maxSubarraySum(numbers)\n",
    "print(maxSum)"
   ]
  },
  {
   "cell_type": "markdown",
   "id": "412d5a7b",
   "metadata": {},
   "source": [
    "### 19. Write a program to remove all vowels from a given string."
   ]
  },
  {
   "cell_type": "code",
   "execution_count": 19,
   "id": "28de3dab",
   "metadata": {},
   "outputs": [
    {
     "data": {
      "text/plain": [
       "'hll nrn'"
      ]
     },
     "execution_count": 19,
     "metadata": {},
     "output_type": "execute_result"
    }
   ],
   "source": [
    "def removeVowel(string):\n",
    "    \n",
    "    vowels = [\"a\",\"e\",\"i\",\"o\",\"u\"]\n",
    "    newStr = \"\"\n",
    "    \n",
    "    for alp in string.lower() :\n",
    "        \n",
    "        if alp in vowels:\n",
    "            continue   \n",
    "        else:\n",
    "            newStr = newStr + alp\n",
    "    return newStr\n",
    "\n",
    "string = \"Hello Ineuron\"\n",
    "removeVowel(string)"
   ]
  },
  {
   "cell_type": "markdown",
   "id": "c36d0737",
   "metadata": {},
   "source": [
    "### 20. Implement a function to reverse the order of words in a given sentence."
   ]
  },
  {
   "cell_type": "code",
   "execution_count": 20,
   "id": "6e7cf61d",
   "metadata": {},
   "outputs": [
    {
     "data": {
      "text/plain": [
       "'tnemngissA nohtyP si sihT enoyrevE olleH'"
      ]
     },
     "execution_count": 20,
     "metadata": {},
     "output_type": "execute_result"
    }
   ],
   "source": [
    "sentence = \"Hello Everyone This is Python Assignment\"\n",
    "sentence[::-1]"
   ]
  },
  {
   "cell_type": "markdown",
   "id": "d930bd07",
   "metadata": {},
   "source": [
    "### 21. Write a Python program to check if two strings are anagrams of each other."
   ]
  },
  {
   "cell_type": "code",
   "execution_count": 21,
   "id": "1646e5e6",
   "metadata": {},
   "outputs": [
    {
     "name": "stdout",
     "output_type": "stream",
     "text": [
      "Counter({'o': 2, 'b': 1, 'k': 1})\n",
      "Counter({'o': 2, 'k': 1, 'b': 1})\n",
      "The strings are anagrams.\n"
     ]
    }
   ],
   "source": [
    "from collections import Counter\n",
    "\n",
    "def checkAnagram(s1, s2):\n",
    "    print(Counter(s1))\n",
    "    print(Counter(s2))\n",
    "    if Counter(s1) == Counter(s2):\n",
    "        print(\"The strings are anagrams.\")\n",
    "    else:\n",
    "        print(\"The strings aren't anagrams.\")\n",
    "\n",
    "s1 = \"book\"\n",
    "s2 = \"ookb\"\n",
    "checkAnagram(s1.lower(), s2.lower())"
   ]
  },
  {
   "cell_type": "markdown",
   "id": "66ec7cc2",
   "metadata": {},
   "source": [
    "###  22. Implement a function to find the first non-repeating character in a string."
   ]
  },
  {
   "cell_type": "code",
   "execution_count": 22,
   "id": "f82b40c1",
   "metadata": {},
   "outputs": [
    {
     "name": "stdout",
     "output_type": "stream",
     "text": [
      "H\n"
     ]
    }
   ],
   "source": [
    "def firstNonRepeatingChar(string):\n",
    "    charCount = {}\n",
    "\n",
    "    for char in string:\n",
    "        charCount[char] = charCount.get(char, 0) + 1\n",
    "    \n",
    "    for char in string:\n",
    "        if charCount[char] == 1:\n",
    "            return char\n",
    "    \n",
    "    return None\n",
    "\n",
    "string = \"Hello\"\n",
    "firstNonRepeating = firstNonRepeatingChar(string)\n",
    "print(firstNonRepeating)"
   ]
  },
  {
   "cell_type": "markdown",
   "id": "e443cf46",
   "metadata": {},
   "source": [
    "### 23. Write a program to find the prime factors of a given number."
   ]
  },
  {
   "cell_type": "code",
   "execution_count": 23,
   "id": "7af2fddc",
   "metadata": {},
   "outputs": [
    {
     "name": "stdout",
     "output_type": "stream",
     "text": [
      "3\n",
      "3\n",
      "5\n",
      "7\n"
     ]
    }
   ],
   "source": [
    "import math\n",
    "\n",
    "def primeFactors(n):\n",
    "    while n % 2 == 0:\n",
    "        print (2),\n",
    "        n = n / 2\n",
    "         \n",
    "    for i in range(3, int(math.sqrt(n))+1, 2):\n",
    "         \n",
    "        while n % i == 0:\n",
    "            print (i),\n",
    "            n = n / i\n",
    "\n",
    "    if n > 2:\n",
    "        print (n)\n",
    "         \n",
    "n = 315\n",
    "primeFactors(n)"
   ]
  },
  {
   "cell_type": "markdown",
   "id": "18ea4c1c",
   "metadata": {},
   "source": [
    "### 24. Implement a function to check if a given number is a power of two.   "
   ]
  },
  {
   "cell_type": "code",
   "execution_count": 24,
   "id": "421e3b7e",
   "metadata": {},
   "outputs": [
    {
     "data": {
      "text/plain": [
       "True"
      ]
     },
     "execution_count": 24,
     "metadata": {},
     "output_type": "execute_result"
    }
   ],
   "source": [
    "def isPowerOfTwo(n):\n",
    "    if n <= 0:\n",
    "        return False\n",
    "    while n > 1:\n",
    "        if n % 2 != 0:\n",
    "            return False\n",
    "        n //= 2\n",
    "    return True\n",
    "\n",
    "isPowerOfTwo(32)"
   ]
  },
  {
   "cell_type": "markdown",
   "id": "c67733b8",
   "metadata": {},
   "source": [
    "### 25. Write a Python program to merge two sorted lists into a single sorted list."
   ]
  },
  {
   "cell_type": "code",
   "execution_count": 25,
   "id": "50359265",
   "metadata": {},
   "outputs": [
    {
     "data": {
      "text/plain": [
       "[1, 2, 2, 2, 3, 3, 4, 5, 5, 5, 5, 7, 7, 8, 8, 9]"
      ]
     },
     "execution_count": 25,
     "metadata": {},
     "output_type": "execute_result"
    }
   ],
   "source": [
    "def singleSortList(List1,List2):\n",
    "    \n",
    "    for i in sorted(List1):\n",
    "        List2.append(i)\n",
    "        \n",
    "    return sorted(List2)\n",
    "\n",
    "List1 = [1,4,2,5,7,3,5,8]\n",
    "List2 = [2,3,9,5,8,7,2,5]\n",
    "singleSortList(List1,List2)"
   ]
  },
  {
   "cell_type": "markdown",
   "id": "f05c59b2",
   "metadata": {},
   "source": [
    "### 26. Implement a function to find the mode of a list of numbers."
   ]
  },
  {
   "cell_type": "code",
   "execution_count": 26,
   "id": "bea0a3e6",
   "metadata": {},
   "outputs": [
    {
     "data": {
      "text/plain": [
       "[5]"
      ]
     },
     "execution_count": 26,
     "metadata": {},
     "output_type": "execute_result"
    }
   ],
   "source": [
    "from collections import defaultdict\n",
    "\n",
    "def findMode(numbers):\n",
    "    countDict = defaultdict(int)\n",
    "\n",
    "    for num in numbers:\n",
    "        countDict[num] += 1\n",
    "\n",
    "    maxCount = max(countDict.values())\n",
    "    mode = [num for num, count in countDict.items() if count == maxCount]\n",
    "    \n",
    "    return mode\n",
    "\n",
    "num = [1, 2, 2, 2, 3, 3, 4, 5, 5, 5, 5, 7, 7, 8, 8, 9]\n",
    "findMode(num)"
   ]
  },
  {
   "cell_type": "markdown",
   "id": "4f6ae140",
   "metadata": {},
   "source": [
    "### 27. Write a program to find the greatest common divisor (GCD) of two numbers."
   ]
  },
  {
   "cell_type": "code",
   "execution_count": 27,
   "id": "9306a425",
   "metadata": {},
   "outputs": [
    {
     "name": "stdout",
     "output_type": "stream",
     "text": [
      "6\n"
     ]
    }
   ],
   "source": [
    "def findGCD(a, b):\n",
    "    while b != 0:\n",
    "        a, b = b, a % b\n",
    "    return a\n",
    "\n",
    "num1 = 48\n",
    "num2 = 18\n",
    "result = findGCD(num1, num2)\n",
    "print(result)"
   ]
  },
  {
   "cell_type": "markdown",
   "id": "bcf97de5",
   "metadata": {},
   "source": [
    "### 28. Implement a function to calculate the square root of a given number"
   ]
  },
  {
   "cell_type": "code",
   "execution_count": 28,
   "id": "03609b1d",
   "metadata": {},
   "outputs": [
    {
     "data": {
      "text/plain": [
       "4.0"
      ]
     },
     "execution_count": 28,
     "metadata": {},
     "output_type": "execute_result"
    }
   ],
   "source": [
    "import math\n",
    "def squareOfNum(n):\n",
    "    result = n ** 0.5\n",
    "    return round(result,2)\n",
    "\n",
    "squareOfNum(16)"
   ]
  },
  {
   "cell_type": "markdown",
   "id": "7b73f60a",
   "metadata": {},
   "source": [
    "### 29. Write a Python program to check if a given string is a valid palindrome ignoring non-alphanumeric characters."
   ]
  },
  {
   "cell_type": "code",
   "execution_count": 29,
   "id": "3243aaa5",
   "metadata": {},
   "outputs": [
    {
     "name": "stdout",
     "output_type": "stream",
     "text": [
      "The given string is palindrome\n"
     ]
    }
   ],
   "source": [
    "import re\n",
    "def checkPalindrome(string):\n",
    "    \n",
    "    pattern = r'[^a-zA-Z ]'\n",
    "    new_str = re.sub(pattern,\"\",string).lower() \n",
    "\n",
    "    if new_str == new_str[::-1]:\n",
    "        print(\"The given string is palindrome\")\n",
    "        \n",
    "    else:\n",
    "        print(\"The string is not palindrome\")\n",
    "    \n",
    "string = \"MadaM@123\"\n",
    "checkPalindrome(string)"
   ]
  },
  {
   "cell_type": "markdown",
   "id": "e4db0244",
   "metadata": {},
   "source": [
    "### 30. Implement a function to find the minimum element in a rotated sorted list"
   ]
  },
  {
   "cell_type": "code",
   "execution_count": 30,
   "id": "1219fa5b",
   "metadata": {},
   "outputs": [
    {
     "data": {
      "text/plain": [
       "2"
      ]
     },
     "execution_count": 30,
     "metadata": {},
     "output_type": "execute_result"
    }
   ],
   "source": [
    "def minNum(List):\n",
    "    \n",
    "    return min(List)\n",
    "\n",
    "List = [2,3,9,5,8,7,2,5]\n",
    "minNum(List)"
   ]
  },
  {
   "cell_type": "markdown",
   "id": "0153c40f",
   "metadata": {},
   "source": [
    "### 31. Write a program to find the sum of all even numbers in a list."
   ]
  },
  {
   "cell_type": "code",
   "execution_count": 31,
   "id": "7274d6f5",
   "metadata": {},
   "outputs": [
    {
     "data": {
      "text/plain": [
       "30"
      ]
     },
     "execution_count": 31,
     "metadata": {},
     "output_type": "execute_result"
    }
   ],
   "source": [
    "def sumOfEvenNum(List):\n",
    "    \n",
    "    evenSum = 0\n",
    "    oddSum = 0\n",
    "    \n",
    "    for i in List:\n",
    "        if i % 2 == 0:\n",
    "            evenSum = evenSum + i\n",
    "        \n",
    "        else :\n",
    "            oddSum = oddSum + i\n",
    "    \n",
    "    return evenSum\n",
    "\n",
    "List = [1,2,3,4,5,6,7,8,9,10]\n",
    "sumOfEvenNum(List)"
   ]
  },
  {
   "cell_type": "markdown",
   "id": "aa0ea0b8",
   "metadata": {},
   "source": [
    "### 32. Implement a function to calculate the power of a number using recursion"
   ]
  },
  {
   "cell_type": "code",
   "execution_count": 32,
   "id": "51ee38e6",
   "metadata": {},
   "outputs": [
    {
     "data": {
      "text/plain": [
       "32"
      ]
     },
     "execution_count": 32,
     "metadata": {},
     "output_type": "execute_result"
    }
   ],
   "source": [
    "def powerRecursion(N, P):\n",
    "    if P == 0:\n",
    "        return 1\n",
    "\n",
    "    return (N*powerRecursion(N, P-1))\n",
    "\n",
    "powerRecursion(2,5)"
   ]
  },
  {
   "cell_type": "markdown",
   "id": "94794b22",
   "metadata": {},
   "source": [
    "### 33. Write a Python program to remove duplicates from a list while preserving the order."
   ]
  },
  {
   "cell_type": "code",
   "execution_count": 33,
   "id": "a94cdaee",
   "metadata": {},
   "outputs": [
    {
     "data": {
      "text/plain": [
       "[2, 3, 4, 6, 5]"
      ]
     },
     "execution_count": 33,
     "metadata": {},
     "output_type": "execute_result"
    }
   ],
   "source": [
    "def removeDuplicates(List):\n",
    "    newList = []\n",
    "    for i in List:\n",
    "        if i in newList:\n",
    "            continue\n",
    "        else:\n",
    "            newList.append(i)\n",
    "            \n",
    "    return newList\n",
    "\n",
    "List = [2,3,4,3,6,5,2]\n",
    "removeDuplicates(List)"
   ]
  },
  {
   "cell_type": "markdown",
   "id": "c6cf2c72",
   "metadata": {},
   "source": [
    "### 34. Implement a function to find the longest common prefix among a list of strings."
   ]
  },
  {
   "cell_type": "code",
   "execution_count": 34,
   "id": "d6c47954",
   "metadata": {},
   "outputs": [
    {
     "data": {
      "text/plain": [
       "'ap'"
      ]
     },
     "execution_count": 34,
     "metadata": {},
     "output_type": "execute_result"
    }
   ],
   "source": [
    "def longestCommonPrefix(a):\n",
    "     \n",
    "    size = len(a)\n",
    "\n",
    "    if (size == 0):\n",
    "        return \"\"\n",
    " \n",
    "    if (size == 1):\n",
    "        return a[0]\n",
    "\n",
    "    a.sort()\n",
    "\n",
    "    end = min(len(a[0]), len(a[size - 1]))\n",
    "\n",
    "    i = 0\n",
    "    while (i < end and\n",
    "           a[0][i] == a[size - 1][i]):\n",
    "        i += 1\n",
    " \n",
    "    pre = a[0][0: i]\n",
    "    return pre\n",
    "\n",
    "a = [\"appa\",\"app\",\"aparana\"]\n",
    "longestCommonPrefix(a)"
   ]
  },
  {
   "cell_type": "markdown",
   "id": "c5fd612c",
   "metadata": {},
   "source": [
    "### 35. Write a program to check if a given number is a perfect square."
   ]
  },
  {
   "cell_type": "code",
   "execution_count": 35,
   "id": "6b692afa",
   "metadata": {},
   "outputs": [
    {
     "name": "stdout",
     "output_type": "stream",
     "text": [
      "The number is a perfect square\n"
     ]
    }
   ],
   "source": [
    "import math\n",
    "def perfectSquare(n):\n",
    "    \n",
    "    a = int(n**0.5)\n",
    "    if n == a**2 :\n",
    "        print(\"The number is a perfect square\")\n",
    "        \n",
    "    else:\n",
    "        print(\"The number is not the Perfect square\")\n",
    "        \n",
    "perfectSquare(4)"
   ]
  },
  {
   "cell_type": "markdown",
   "id": "c57e9781",
   "metadata": {},
   "source": [
    "### 36. Implement a function to calculate the product of all elements in a list."
   ]
  },
  {
   "cell_type": "code",
   "execution_count": 36,
   "id": "9db01739",
   "metadata": {},
   "outputs": [
    {
     "data": {
      "text/plain": [
       "120"
      ]
     },
     "execution_count": 36,
     "metadata": {},
     "output_type": "execute_result"
    }
   ],
   "source": [
    "def prodOfList(List):\n",
    "    \n",
    "    result = 1\n",
    "    \n",
    "    for i in List:\n",
    "        result = result*i\n",
    "    \n",
    "    return result\n",
    "\n",
    "List = [1,2,3,4,5]\n",
    "prodOfList(List)"
   ]
  },
  {
   "cell_type": "markdown",
   "id": "bc963c9e",
   "metadata": {},
   "source": [
    "### 37. Write a Python program to reverse the order of words in a sentence while preserving the word order"
   ]
  },
  {
   "cell_type": "code",
   "execution_count": 37,
   "id": "9695ad86",
   "metadata": {},
   "outputs": [
    {
     "name": "stdout",
     "output_type": "stream",
     "text": [
      "Ages ago in a village at the foot of a mountain volcano a young hero was born\n"
     ]
    },
    {
     "data": {
      "text/plain": [
       "'segA oga ni a egalliv ta eht toof fo a niatnuom onaclov a gnuoy oreh saw nrob'"
      ]
     },
     "execution_count": 37,
     "metadata": {},
     "output_type": "execute_result"
    }
   ],
   "source": [
    "import re\n",
    "def reverseSentence(sentence):\n",
    "    \n",
    "    pattern = r'[^a-zA-Z ]'\n",
    "    a = re.sub(pattern,\"\",sentence)\n",
    "    b=a.split(\" \")\n",
    "    \n",
    "    newList = []\n",
    "    for i in b:\n",
    "        newList.append(i[::-1])\n",
    "        \n",
    "    revSent = \" \".join(newList)\n",
    "    print(a)\n",
    "    \n",
    "    return revSent\n",
    "\n",
    "sentence = \"Ages ago, in a village at the foot of a mountain volcano, a young hero was born.\"\n",
    "reverseSentence(sentence)"
   ]
  },
  {
   "cell_type": "markdown",
   "id": "076992eb",
   "metadata": {},
   "source": [
    "### 38. Implement a function to find the missing number in a given list of consecutive numbers."
   ]
  },
  {
   "cell_type": "code",
   "execution_count": 38,
   "id": "5478271d",
   "metadata": {},
   "outputs": [
    {
     "name": "stdout",
     "output_type": "stream",
     "text": [
      "5\n"
     ]
    }
   ],
   "source": [
    "def findMissing(arr, n):\n",
    " \n",
    "    l, h = 0, n - 1\n",
    "    mid = 0\n",
    " \n",
    "    while (h > l):\n",
    " \n",
    "        mid = l + (h - l) // 2\n",
    "\n",
    "        if (arr[mid] - mid == arr[0]):\n",
    "            \n",
    "            if (arr[mid + 1] - arr[mid] > 1):\n",
    "                return arr[mid] + 1\n",
    "            \n",
    "            else:\n",
    "                l = mid + 1\n",
    "             \n",
    "        else:\n",
    "            if (arr[mid] - arr[mid - 1] > 1):\n",
    "                return arr[mid] - 1\n",
    "            \n",
    "            else:\n",
    "                h = mid - 1\n",
    "\n",
    "    return -1\n",
    "\n",
    "arr = [1,2,3,4,6,7,8]\n",
    "n = len(arr)\n",
    " \n",
    "print(findMissing(arr, n))"
   ]
  },
  {
   "cell_type": "markdown",
   "id": "e9eb12d8",
   "metadata": {},
   "source": [
    "### 39. Write a program to find the sum of digits of a given number."
   ]
  },
  {
   "cell_type": "code",
   "execution_count": 39,
   "id": "9eb91d2f",
   "metadata": {},
   "outputs": [
    {
     "data": {
      "text/plain": [
       "12"
      ]
     },
     "execution_count": 39,
     "metadata": {},
     "output_type": "execute_result"
    }
   ],
   "source": [
    "def sumOfDigits(n):\n",
    "    \n",
    "    result = 0\n",
    "    for i in str(n):\n",
    "        result = result + int(i)\n",
    "        \n",
    "    return result\n",
    "\n",
    "sumOfDigits(444)"
   ]
  },
  {
   "cell_type": "markdown",
   "id": "a5d97fcf",
   "metadata": {},
   "source": [
    "### 40. Implement a function to check if a given string is a valid palindrome considering case sensitivity."
   ]
  },
  {
   "cell_type": "code",
   "execution_count": 40,
   "id": "c15defd8",
   "metadata": {},
   "outputs": [
    {
     "name": "stdout",
     "output_type": "stream",
     "text": [
      "The given string is palindrome\n",
      "\n",
      "The string is not palindrome\n"
     ]
    }
   ],
   "source": [
    "def checkPalindrome(string):\n",
    "    \n",
    "    pattern = r'[^a-zA-Z ]'\n",
    "    newStr = re.sub(pattern,\"\",string) \n",
    "\n",
    "    if newStr == newStr[::-1]:\n",
    "        print(\"The given string is palindrome\")\n",
    "        \n",
    "    else:\n",
    "        print(\"The string is not palindrome\")\n",
    "    \n",
    "string = \"madam\"\n",
    "checkPalindrome(string)\n",
    "print()\n",
    "\n",
    "string = \"Madam\"\n",
    "checkPalindrome(string)"
   ]
  },
  {
   "cell_type": "markdown",
   "id": "96b11ef8",
   "metadata": {},
   "source": [
    "### 41. Write a Python program to find the smallest missing positive integer in a list."
   ]
  },
  {
   "cell_type": "code",
   "execution_count": 41,
   "id": "d9c5b9fa",
   "metadata": {},
   "outputs": [
    {
     "data": {
      "text/plain": [
       "1"
      ]
     },
     "execution_count": 41,
     "metadata": {},
     "output_type": "execute_result"
    }
   ],
   "source": [
    "def leastPositiveIntInList(A):\n",
    " \n",
    "    m = max(A)\n",
    "    if m < 1:\n",
    "\n",
    "        return 1\n",
    "    if len(A) == 1:\n",
    "\n",
    "        return 2 if A[0] == 1 else 1\n",
    "    l = [0] * m\n",
    "    for i in range(len(A)):\n",
    "        if A[i] > 0:\n",
    "            if l[A[i] - 1] != 1:\n",
    "\n",
    "                l[A[i] - 1] = 1\n",
    "    for i in range(len(l)):\n",
    "\n",
    "        if l[i] == 0:\n",
    "            return i + 1\n",
    "    return i + 2\n",
    "\n",
    "arr = [0, 10, 2, -10, -20]\n",
    "leastPositiveIntInList(arr)"
   ]
  },
  {
   "cell_type": "markdown",
   "id": "6b33818f",
   "metadata": {},
   "source": [
    "### 42. Implement a function to find the longest palindrome substring in a given string."
   ]
  },
  {
   "cell_type": "code",
   "execution_count": 42,
   "id": "7185be09",
   "metadata": {},
   "outputs": [
    {
     "name": "stdout",
     "output_type": "stream",
     "text": [
      "Longest palindrome substring is: madam"
     ]
    },
    {
     "data": {
      "text/plain": [
       "5"
      ]
     },
     "execution_count": 42,
     "metadata": {},
     "output_type": "execute_result"
    }
   ],
   "source": [
    "def printSubStr(str, low, high):\n",
    "    for i in range(low, high + 1):\n",
    "        print(str[i], end=\"\")\n",
    "\n",
    "def longestPalSubstr(str):\n",
    "\n",
    "    n = len(str)\n",
    "\n",
    "    maxLength = 1\n",
    "    start = 0\n",
    "\n",
    "    for i in range(n):\n",
    "        for j in range(i, n):\n",
    "            flag = 1\n",
    "\n",
    "            for k in range(0, ((j - i) // 2) + 1):\n",
    "                if (str[i + k] != str[j - k]):\n",
    "                    flag = 0\n",
    "\n",
    "            if (flag != 0 and (j - i + 1) > maxLength):\n",
    "                start = i\n",
    "                maxLength = j - i + 1\n",
    " \n",
    "    print(\"Longest palindrome substring is: \", end=\"\")\n",
    "    printSubStr(str, start, start + maxLength - 1)\n",
    "\n",
    "    return maxLength\n",
    "\n",
    "string = \"hellomadamhello\"\n",
    "longestPalSubstr(string)"
   ]
  },
  {
   "cell_type": "markdown",
   "id": "653e70e8",
   "metadata": {},
   "source": [
    "### 43. Write a program to find the number of occurrences of a given element in a list."
   ]
  },
  {
   "cell_type": "code",
   "execution_count": 43,
   "id": "ff35aea0",
   "metadata": {},
   "outputs": [
    {
     "data": {
      "text/plain": [
       "4"
      ]
     },
     "execution_count": 43,
     "metadata": {},
     "output_type": "execute_result"
    }
   ],
   "source": [
    "def timeOccur(List, n):\n",
    "    \n",
    "    count = 0\n",
    "    \n",
    "    for i in List:\n",
    "        if i == n:\n",
    "            count = count+1\n",
    "        else:\n",
    "            continue \n",
    "            \n",
    "    return count\n",
    "\n",
    "List = [2, 3, 9, 5, 8, 7, 2, 5, 2, 5, 2]\n",
    "timeOccur(List, 2)"
   ]
  },
  {
   "cell_type": "markdown",
   "id": "f3dffb86",
   "metadata": {},
   "source": [
    "### 44. Implement a function to check if a given number is a perfect number."
   ]
  },
  {
   "cell_type": "code",
   "execution_count": 44,
   "id": "bbe8d0d1",
   "metadata": {},
   "outputs": [
    {
     "name": "stdout",
     "output_type": "stream",
     "text": [
      "The entered number is a perfect number\n"
     ]
    }
   ],
   "source": [
    "def perfectSquare(num): \n",
    "    sumV = 0  \n",
    "    for i in range(1,num):  \n",
    "        if (num%i == 0):  \n",
    "            sumV = sumV + i  \n",
    "    if(sumV == num):  \n",
    "        print(\"The entered number is a perfect number\")  \n",
    "    else:  \n",
    "        print(\"The entered number is not a perfect number\") \n",
    "        \n",
    "perfectSquare(6)"
   ]
  },
  {
   "cell_type": "markdown",
   "id": "33759671",
   "metadata": {},
   "source": [
    "### 45. Write a Python program to remove all duplicates from a string."
   ]
  },
  {
   "cell_type": "code",
   "execution_count": 45,
   "id": "3a9d6531",
   "metadata": {},
   "outputs": [
    {
     "data": {
      "text/plain": [
       "'Abca'"
      ]
     },
     "execution_count": 45,
     "metadata": {},
     "output_type": "execute_result"
    }
   ],
   "source": [
    "def removeDuplicate(string):\n",
    "    \n",
    "    result = \"\"\n",
    "    \n",
    "    for char in string:\n",
    "        if char not in result:\n",
    "            result = result + char\n",
    "    \n",
    "    return result\n",
    "\n",
    "string = \"Abcabc\"\n",
    "removeDuplicate(string)"
   ]
  },
  {
   "cell_type": "markdown",
   "id": "d893289e",
   "metadata": {},
   "source": [
    "### 46. Implement a function to find the first missing positive"
   ]
  },
  {
   "cell_type": "code",
   "execution_count": 46,
   "id": "f37f8462",
   "metadata": {},
   "outputs": [
    {
     "data": {
      "text/plain": [
       "2"
      ]
     },
     "execution_count": 46,
     "metadata": {},
     "output_type": "execute_result"
    }
   ],
   "source": [
    "def firstMissingPositive(nums):\n",
    "        numsSet, i = set(nums), 1\n",
    "        while i in numsSet:\n",
    "            i += 1\n",
    "        return i\n",
    "\n",
    "a = [1,3,4,5]\n",
    "firstMissingPositive(a)"
   ]
  }
 ],
 "metadata": {
  "kernelspec": {
   "display_name": "Python 3 (ipykernel)",
   "language": "python",
   "name": "python3"
  },
  "language_info": {
   "codemirror_mode": {
    "name": "ipython",
    "version": 3
   },
   "file_extension": ".py",
   "mimetype": "text/x-python",
   "name": "python",
   "nbconvert_exporter": "python",
   "pygments_lexer": "ipython3",
   "version": "3.10.7"
  }
 },
 "nbformat": 4,
 "nbformat_minor": 5
}
