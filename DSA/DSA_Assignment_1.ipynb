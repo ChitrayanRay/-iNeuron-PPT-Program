{
 "cells": [
  {
   "cell_type": "markdown",
   "id": "964de40b",
   "metadata": {},
   "source": [
    "<aside>\n",
    "💡 **Q1.** Given an array of integers nums and an integer target, return indices of the two numbers such that they add up to target.\n",
    "\n",
    "You may assume that each input would have exactly one solution, and you may not use the same element twice.\n",
    "\n",
    "You can return the answer in any order.\n",
    "\n",
    "**Example:**\n",
    "Input: nums = [2,7,11,15], target = 9\n",
    "Output0 [0,1]\n",
    "\n",
    "**Explanation:** Because nums[0] + nums[1] == 9, we return [0, 1][\n",
    "\n",
    "</aside>"
   ]
  },
  {
   "cell_type": "code",
   "execution_count": 1,
   "id": "3ccbbf26",
   "metadata": {},
   "outputs": [
    {
     "name": "stdout",
     "output_type": "stream",
     "text": [
      "[1, 0]\n"
     ]
    }
   ],
   "source": [
    "def twoSum(nums, target):\n",
    "    res, traversed = [], set()\n",
    "\n",
    "    for i in range(len(nums)):\n",
    "        if target - nums[i] in traversed:\n",
    "            res.append([i, nums.index(target - nums[i])])\n",
    "        else:\n",
    "            traversed.add(nums[i])\n",
    "    return res[0];\n",
    "arr = [2,7, 5, 6]\n",
    "K = 9\n",
    "print(twoSum(arr, K))"
   ]
  },
  {
   "cell_type": "markdown",
   "id": "2f45ec3e",
   "metadata": {},
   "source": [
    "<aside>\n",
    "💡 **Q2.** Given an integer array nums and an integer val, remove all occurrences of val in nums in-place. The order of the elements may be changed. Then return the number of elements in nums which are not equal to val.\n",
    "\n",
    "Consider the number of elements in nums which are not equal to val be k, to get accepted, you need to do the following things:\n",
    "\n",
    "- Change the array nums such that the first k elements of nums contain the elements which are not equal to val. The remaining elements of nums are not important as well as the size of nums.\n",
    "- Return k.\n",
    "\n",
    "**Example :**\n",
    "Input: nums = [3,2,2,3], val = 3\n",
    "Output: 2, nums = [2,2,_*,_*]\n",
    "\n",
    "**Explanation:** Your function should return k = 2, with the first two elements of nums being 2. It does not matter what you leave beyond the returned k (hence they are underscores)[\n",
    "\n",
    "</aside>"
   ]
  },
  {
   "cell_type": "code",
   "execution_count": 2,
   "id": "df90cdf8",
   "metadata": {},
   "outputs": [
    {
     "name": "stdout",
     "output_type": "stream",
     "text": [
      "[1, 4, 5]\n"
     ]
    }
   ],
   "source": [
    "def removeVal(nums, val):\n",
    "    while val in nums:\n",
    "        nums.remove(val)\n",
    "    return nums\n",
    "arr=[0,1,0,4,5]\n",
    "k=0\n",
    "print(removeVal(arr,k))"
   ]
  },
  {
   "cell_type": "markdown",
   "id": "fd8715b0",
   "metadata": {},
   "source": [
    "<aside>\n",
    "💡 **Q3.** Given a sorted array of distinct integers and a target value, return the index if the target is found. If not, return the index where it would be if it were inserted in order.\n",
    "\n",
    "You must write an algorithm with O(log n) runtime complexity.\n",
    "\n",
    "**Example 1:**\n",
    "Input: nums = [1,3,5,6], target = 5\n",
    "\n",
    "Output: 2\n",
    "\n",
    "</aside>"
   ]
  },
  {
   "cell_type": "code",
   "execution_count": 3,
   "id": "e9fbeb9d",
   "metadata": {},
   "outputs": [
    {
     "name": "stdout",
     "output_type": "stream",
     "text": [
      "1\n"
     ]
    }
   ],
   "source": [
    "def find_target_index(arr, n, K):\n",
    "    for i in range(n):\n",
    "        if arr[i] == K:\n",
    "            return i\n",
    "        elif arr[i] > K:\n",
    "            return i        \n",
    "    return n\n",
    " \n",
    "arr = [1, 3, 5, 6]\n",
    "n = len(arr)\n",
    "K = 2\n",
    "print(find_target_index(arr, n, K))"
   ]
  },
  {
   "cell_type": "markdown",
   "id": "e0bbc23d",
   "metadata": {},
   "source": [
    "<aside>\n",
    "💡 **Q4.** You are given a large integer represented as an integer array digits, where each digits[i] is the ith digit of the integer. The digits are ordered from most significant to least significant in left-to-right order. The large integer does not contain any leading 0's.\n",
    "\n",
    "Increment the large integer by one and return the resulting array of digits.\n",
    "\n",
    "**Example 1:**\n",
    "Input: digits = [1,2,3]\n",
    "Output: [1,2,4]\n",
    "\n",
    "**Explanation:** The array represents the integer 123.\n",
    "\n",
    "Incrementing by one gives 123 + 1 = 124.\n",
    "Thus, the result should be [1,2,4].\n",
    "\n",
    "</aside>"
   ]
  },
  {
   "cell_type": "code",
   "execution_count": 4,
   "id": "7a4592ff",
   "metadata": {},
   "outputs": [
    {
     "name": "stdout",
     "output_type": "stream",
     "text": [
      "[1, 0, 0, 0, 0]\n"
     ]
    }
   ],
   "source": [
    "def largeIntIncrementOne(digits):\n",
    "    size = len(digits)-1;\n",
    "    for num in range(size, -1, -1) :\n",
    "        if(num == 0):\n",
    "            if(digits[num]==9):\n",
    "                digits[num] = 0;\n",
    "                digits.insert(0,1);\n",
    "            else:\n",
    "                digits[num]  =digits[num] + 1;\n",
    "                break;\n",
    "        else:\n",
    "            if(digits[num]==9):\n",
    "                digits[num] = 0;\n",
    "            else:\n",
    "                digits[num]  =digits[num] + 1;\n",
    "                break;\n",
    "    return  digits;\n",
    "\n",
    "arr = [9, 9, 9, 9]\n",
    "print(largeIntIncrementOne(arr))"
   ]
  },
  {
   "cell_type": "markdown",
   "id": "2150055c",
   "metadata": {},
   "source": [
    "<aside>\n",
    "💡 **Q5.** You are given two integer arrays nums1 and nums2, sorted in non-decreasing order, and two integers m and n, representing the number of elements in nums1 and nums2 respectively.\n",
    "\n",
    "Merge nums1 and nums2 into a single array sorted in non-decreasing order.\n",
    "\n",
    "The final sorted array should not be returned by the function, but instead be stored inside the array nums1. To accommodate this, nums1 has a length of m + n, where the first m elements denote the elements that should be merged, and the last n elements are set to 0 and should be ignored. nums2 has a length of n.\n",
    "\n",
    "**Example 1:**\n",
    "Input: nums1 = [1,2,3,0,0,0], m = 3, nums2 = [2,5,6], n = 3\n",
    "Output: [1,2,2,3,5,6]\n",
    "\n",
    "**Explanation:** The arrays we are merging are [1,2,3] and [2,5,6].\n",
    "The result of the merge is [1,2,2,3,5,6] with the underlined elements coming from nums1.\n",
    "\n",
    "</aside>"
   ]
  },
  {
   "cell_type": "code",
   "execution_count": 5,
   "id": "bd508c0e",
   "metadata": {},
   "outputs": [
    {
     "name": "stdout",
     "output_type": "stream",
     "text": [
      "[1, 2, 2, 3, 5, 6]\n"
     ]
    }
   ],
   "source": [
    "def mergeArray(nums1, m, nums2, n):\n",
    "    i=0\n",
    "    for x in range(len(nums1)):\n",
    "        if i>=n:\n",
    "            break\n",
    "        if nums1[x]==0:\n",
    "            nums1[x]=nums2[i]\n",
    "            i+=1           \n",
    "    nums1.sort()\n",
    "\n",
    "arr1=[1,2,3,0,0,0]\n",
    "arr2=[2,5,6]\n",
    "mergeArray(arr1,6,arr2,3)\n",
    "print(arr1);"
   ]
  },
  {
   "cell_type": "markdown",
   "id": "3b8a56a0",
   "metadata": {},
   "source": [
    "<aside>\n",
    "💡 **Q6.** Given an integer array nums, return true if any value appears at least twice in the array, and return false if every element is distinct.\n",
    "\n",
    "**Example 1:**\n",
    "Input: nums = [1,2,3,1]\n",
    "\n",
    "Output: true\n",
    "\n",
    "</aside>"
   ]
  },
  {
   "cell_type": "code",
   "execution_count": 6,
   "id": "592c4f15",
   "metadata": {},
   "outputs": [
    {
     "name": "stdout",
     "output_type": "stream",
     "text": [
      "True\n"
     ]
    }
   ],
   "source": [
    "def duplicateElements(num):\n",
    "    resultant = set();\n",
    "    for val in num:\n",
    "        if val in resultant:\n",
    "            return True;\n",
    "        else:\n",
    "            resultant.add(val);\n",
    "\n",
    "arr = [1,5,6,4,1,2,2,];\n",
    "print(duplicateElements(arr));"
   ]
  },
  {
   "cell_type": "markdown",
   "id": "f1f7bc17",
   "metadata": {},
   "source": [
    "<aside>\n",
    "💡 **Q7.** Given an integer array nums, move all 0's to the end of it while maintaining the relative order of the nonzero elements.\n",
    "\n",
    "Note that you must do this in-place without making a copy of the array.\n",
    "\n",
    "**Example 1:**\n",
    "Input: nums = [0,1,0,3,12]\n",
    "Output: [1,3,12,0,0]\n",
    "\n",
    "</aside>"
   ]
  },
  {
   "cell_type": "code",
   "execution_count": 7,
   "id": "c9751007",
   "metadata": {},
   "outputs": [
    {
     "name": "stdout",
     "output_type": "stream",
     "text": [
      "[5, 7, 8, 0, 0, 0]\n"
     ]
    }
   ],
   "source": [
    "def moveZeroes(nums):\n",
    "        for i in range(len(nums)):\n",
    "            if(nums[i]==0):\n",
    "                nums.append(nums[i]);\n",
    "                nums.remove(nums[i]);\n",
    "                \n",
    "arr = [0,5,0,7,0,8]\n",
    "moveZeroes(arr);\n",
    "print(arr);"
   ]
  },
  {
   "cell_type": "markdown",
   "id": "0145fb51",
   "metadata": {},
   "source": [
    "<aside>\n",
    "💡 **Q8.** You have a set of integers s, which originally contains all the numbers from 1 to n. Unfortunately, due to some error, one of the numbers in s got duplicated to another number in the set, which results in repetition of one number and loss of another number.\n",
    "\n",
    "You are given an integer array nums representing the data status of this set after the error.\n",
    "\n",
    "Find the number that occurs twice and the number that is missing and return them in the form of an array.\n",
    "\n",
    "**Example 1:**\n",
    "Input: nums = [1,2,2,4]\n",
    "Output: [2,3]\n",
    "\n",
    "</aside>"
   ]
  },
  {
   "cell_type": "code",
   "execution_count": 8,
   "id": "2157f04e",
   "metadata": {},
   "outputs": [
    {
     "name": "stdout",
     "output_type": "stream",
     "text": [
      "[0, 6]\n"
     ]
    }
   ],
   "source": [
    "import collections\n",
    "def findRepeatingAndMissingNums(nums):\n",
    "        count = collections.Counter(nums)\n",
    "        res = [0,0]\n",
    "        for i in range(1, len(nums)+1):\n",
    "            if count[i]==2:\n",
    "                res[0]=i\n",
    "            if count[i]==0:\n",
    "                res[1]=i\n",
    "        return res\n",
    "\n",
    "print(findRepeatingAndMissingNums(arr));"
   ]
  }
 ],
 "metadata": {
  "kernelspec": {
   "display_name": "Python 3 (ipykernel)",
   "language": "python",
   "name": "python3"
  },
  "language_info": {
   "codemirror_mode": {
    "name": "ipython",
    "version": 3
   },
   "file_extension": ".py",
   "mimetype": "text/x-python",
   "name": "python",
   "nbconvert_exporter": "python",
   "pygments_lexer": "ipython3",
   "version": "3.9.12"
  }
 },
 "nbformat": 4,
 "nbformat_minor": 5
}
