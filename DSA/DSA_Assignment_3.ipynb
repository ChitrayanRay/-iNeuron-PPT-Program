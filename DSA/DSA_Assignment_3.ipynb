{
 "cells": [
  {
   "cell_type": "markdown",
   "id": "cff9be1a",
   "metadata": {},
   "source": [
    "<aside>\n",
    "💡 **Question 1**\n",
    "\n",
    "Given an integer array nums of length n and an integer target, find three integers\n",
    "in nums such that the sum is closest to the target.\n",
    "Return the sum of the three integers.\n",
    "\n",
    "You may assume that each input would have exactly one solution.\n",
    "\n",
    "**Example 1:**\n",
    "Input: nums = [-1,2,1,-4], target = 1\n",
    "Output: 2\n",
    "\n",
    "**Explanation:** The sum that is closest to the target is 2. (-1 + 2 + 1 = 2).\n",
    "</aside>"
   ]
  },
  {
   "cell_type": "code",
   "execution_count": 1,
   "id": "0e50f5c0",
   "metadata": {},
   "outputs": [
    {
     "name": "stdout",
     "output_type": "stream",
     "text": [
      "-5.600000000000001\n"
     ]
    }
   ],
   "source": [
    "def sumOfThreeClosest(nums, target):\n",
    "    size = len(nums)\n",
    "    nums.sort()\n",
    "    diff = 20001\n",
    "    val = 0\n",
    "    for i in range(size):\n",
    "        x = i + 1\n",
    "        y = size - 1\n",
    "        while(x < y):\n",
    "            closest_sum = nums[i] + nums[x] + nums[y]\n",
    "            kk = abs(closest_sum - target)\n",
    "            if(kk < diff):\n",
    "                diff = kk\n",
    "                val = closest_sum\n",
    "            if(closest_sum == target):\n",
    "                return target\n",
    "            elif(closest_sum < target):\n",
    "                x += 1\n",
    "            else:\n",
    "                y -= 1\n",
    "    return val\n",
    "\n",
    "\n",
    "arr = [2, 34, 6, -45.6]\n",
    "t = 6\n",
    "print(sumOfThreeClosest(arr, t))"
   ]
  },
  {
   "cell_type": "markdown",
   "id": "e768cad5",
   "metadata": {},
   "source": [
    "<aside>\n",
    "💡 **Question 2**\n",
    "\n",
    "Given an array nums of n integers, return an array of all the unique quadruplets\n",
    "[nums[a], nums[b], nums[c], nums[d]] such that:\n",
    "           ● 0 <= a, b, c, d < n\n",
    "           ● a, b, c, and d are distinct.\n",
    "           ● nums[a] + nums[b] + nums[c] + nums[d] == target\n",
    "\n",
    "You may return the answer in any order.\n",
    "\n",
    "**Example 1:**\n",
    "Input: nums = [1,0,-1,0,-2,2], target = 0\n",
    "Output: [[-2,-1,1,2],[-2,0,0,2],[-1,0,0,1]]\n",
    "</aside>"
   ]
  },
  {
   "cell_type": "code",
   "execution_count": 2,
   "id": "956b4fc8",
   "metadata": {},
   "outputs": [
    {
     "name": "stdout",
     "output_type": "stream",
     "text": [
      "{(-2, -1, 1, 2), (-1, 0, 0, 1), (-2, 0, 0, 2)}\n"
     ]
    }
   ],
   "source": [
    "def fourElementArrSum(nums, target):        \n",
    "    \n",
    "    size, hm, res = len(nums), {}, set()\n",
    "    for i in range(size):\n",
    "        for j in range(i + 1, size):\n",
    "            for k in range(j + 1, size):\n",
    "                numA, numB, numC = nums[i], nums[j], nums[k]\n",
    "                numD = (target - (numA + numB + numC)) \n",
    "                if numD in hm and hm[numD] not in [i,j,k]: \n",
    "                    temp_res = tuple(sorted([numA, numB, numC, numD]))       \n",
    "                    res.add(temp_res)\n",
    "                else:\n",
    "                    hm[numC] = k\n",
    "    return res\n",
    "    \n",
    "arr = [1, 0, -1, 0, -2, 2]\n",
    "t = 0\n",
    "print(fourElementArrSum(arr,t))"
   ]
  },
  {
   "cell_type": "markdown",
   "id": "6424db54",
   "metadata": {},
   "source": [
    "<aside>\n",
    "💡 **Question 3**\n",
    "\n",
    "A permutation of an array of integers is an arrangement of its members into a\n",
    "sequence or linear order.\n",
    "\n",
    "For example, for arr = [1,2,3], the following are all the permutations of arr:\n",
    "[1,2,3], [1,3,2], [2, 1, 3], [2, 3, 1], [3,1,2], [3,2,1].\n",
    "\n",
    "The next permutation of an array of integers is the next lexicographically greater\n",
    "permutation of its integer. More formally, if all the permutations of the array are\n",
    "sorted in one container according to their lexicographical order, then the next\n",
    "permutation of that array is the permutation that follows it in the sorted container.\n",
    "\n",
    "If such an arrangement is not possible, the array must be rearranged as the\n",
    "lowest possible order (i.e., sorted in ascending order).\n",
    "\n",
    "● For example, the next permutation of arr = [1,2,3] is [1,3,2].\n",
    "● Similarly, the next permutation of arr = [2,3,1] is [3,1,2].\n",
    "● While the next permutation of arr = [3,2,1] is [1,2,3] because [3,2,1] does not\n",
    "have a lexicographical larger rearrangement.\n",
    "\n",
    "Given an array of integers nums, find the next permutation of nums.\n",
    "The replacement must be in place and use only constant extra memory.\n",
    "\n",
    "**Example 1:**\n",
    "Input: nums = [1,2,3]\n",
    "Output: [1,3,2]\n",
    "</aside>"
   ]
  },
  {
   "cell_type": "code",
   "execution_count": 3,
   "id": "89e8b3e4",
   "metadata": {},
   "outputs": [
    {
     "name": "stdout",
     "output_type": "stream",
     "text": [
      "[1, 3, 2]\n"
     ]
    }
   ],
   "source": [
    "def permutationOfNums(nums):\n",
    "    i = len(nums) - 2\n",
    "    while i >= 0 and nums[i + 1] <= nums[i]:\n",
    "        i -= 1\n",
    "    if i >= 0:\n",
    "        j = len(nums) - 1\n",
    "        while nums[j] <= nums[i]:\n",
    "            j -= 1\n",
    "        nums[i], nums[j] = nums[j], nums[i]\n",
    "    reverse(nums, i + 1)\n",
    " \n",
    "def reverse(nums, start):\n",
    "    i, j = start, len(nums) - 1\n",
    "    while i < j:\n",
    "        nums[i], nums[j] = nums[j], nums[i]\n",
    "        i += 1\n",
    "        j -= 1\n",
    "\n",
    "arr = [1, 2, 3]\n",
    "permutationOfNums(arr)\n",
    "print(arr)"
   ]
  },
  {
   "cell_type": "markdown",
   "id": "726bbea8",
   "metadata": {},
   "source": [
    "<aside>\n",
    "💡 **Question 4**\n",
    "\n",
    "Given a sorted array of distinct integers and a target value, return the index if the\n",
    "target is found. If not, return the index where it would be if it were inserted in\n",
    "order.\n",
    "\n",
    "You must write an algorithm with O(log n) runtime complexity.\n",
    "\n",
    "**Example 1:**\n",
    "Input: nums = [1,3,5,6], target = 5\n",
    "Output: 2\n",
    "</aside>"
   ]
  },
  {
   "cell_type": "code",
   "execution_count": 4,
   "id": "7ee18deb",
   "metadata": {},
   "outputs": [
    {
     "name": "stdout",
     "output_type": "stream",
     "text": [
      "2\n"
     ]
    }
   ],
   "source": [
    "def findTargetIndex(nums, target):\n",
    "    for i in range(len(nums)):\n",
    "        if nums[i] == target:\n",
    "            return i  \n",
    "        elif nums[i] > target:\n",
    "            return i    \n",
    "    return len(nums)\n",
    "\n",
    "arr = [1, 9, 18]\n",
    "print(findTargetIndex(arr, 12))"
   ]
  },
  {
   "cell_type": "markdown",
   "id": "aaf39871",
   "metadata": {},
   "source": [
    "<aside>\n",
    "💡 **Question 5**\n",
    "\n",
    "You are given a large integer represented as an integer array digits, where each\n",
    "digits[i] is the ith digit of the integer. The digits are ordered from most significant\n",
    "to least significant in left-to-right order. The large integer does not contain any\n",
    "leading 0's.\n",
    "\n",
    "Increment the large integer by one and return the resulting array of digits.\n",
    "\n",
    "**Example 1:**\n",
    "Input: digits = [1,2,3]\n",
    "Output: [1,2,4]\n",
    "\n",
    "**Explanation:** The array represents the integer 123.\n",
    "Incrementing by one gives 123 + 1 = 124.\n",
    "Thus, the result should be [1,2,4].\n",
    "</aside>"
   ]
  },
  {
   "cell_type": "code",
   "execution_count": 5,
   "id": "f6cbd566",
   "metadata": {},
   "outputs": [
    {
     "name": "stdout",
     "output_type": "stream",
     "text": [
      "[1, 0, 0, 0, 0]\n"
     ]
    }
   ],
   "source": [
    "def plusOneArr( digits):\n",
    "    size = len(digits) - 1;\n",
    "    for num in range(size, -1, -1) :\n",
    "        if(num == 0):\n",
    "            if(digits[num] == 9):\n",
    "                digits[num] = 0;\n",
    "                digits.insert(0, 1);\n",
    "            else:\n",
    "                digits[num] = digits[num] + 1;\n",
    "                break\n",
    "        else:\n",
    "            if(digits[num] == 9):\n",
    "                digits[num] = 0;\n",
    "            else:\n",
    "                digits[num] = digits[num] + 1;\n",
    "                break\n",
    "    return  digits\n",
    "\n",
    "arr = [9, 9, 9, 9]\n",
    "print(plusOneArr(arr))"
   ]
  },
  {
   "cell_type": "markdown",
   "id": "4f195c78",
   "metadata": {},
   "source": [
    "<aside>\n",
    "💡 **Question 6**\n",
    "\n",
    "Given a non-empty array of integers nums, every element appears twice except\n",
    "for one. Find that single one.\n",
    "\n",
    "You must implement a solution with a linear runtime complexity and use only\n",
    "constant extra space.\n",
    "\n",
    "**Example 1:**\n",
    "Input: nums = [2,2,1]\n",
    "Output: 1\n",
    "</aside>"
   ]
  },
  {
   "cell_type": "code",
   "execution_count": 6,
   "id": "9da88b12",
   "metadata": {},
   "outputs": [
    {
     "name": "stdout",
     "output_type": "stream",
     "text": [
      "7\n"
     ]
    }
   ],
   "source": [
    "def singleIntNums(nums):\n",
    "    res = 0\n",
    "    for i in nums:\n",
    "        res =  res^i\n",
    "    return res\n",
    "\n",
    "arr = [1, 1, 2, 2, 5, 5, 7]\n",
    "print(singleIntNums(arr))"
   ]
  },
  {
   "cell_type": "markdown",
   "id": "fa80f0cd",
   "metadata": {},
   "source": [
    "<aside>\n",
    "💡 **Question 7**\n",
    "\n",
    "You are given an inclusive range [lower, upper] and a sorted unique integer array\n",
    "nums, where all elements are within the inclusive range.\n",
    "\n",
    "A number x is considered missing if x is in the range [lower, upper] and x is not in\n",
    "nums.\n",
    "\n",
    "Return the shortest sorted list of ranges that exactly covers all the missing\n",
    "numbers. That is, no element of nums is included in any of the ranges, and each\n",
    "missing number is covered by one of the ranges.\n",
    "\n",
    "**Example 1:**\n",
    "Input: nums = [0,1,3,50,75], lower = 0, upper = 99\n",
    "Output: [[2,2],[4,49],[51,74],[76,99]]\n",
    "\n",
    "**Explanation:** The ranges are:\n",
    "[2,2]\n",
    "[4,49]\n",
    "[51,74]\n",
    "[76,99]\n",
    "</aside>"
   ]
  },
  {
   "cell_type": "code",
   "execution_count": 7,
   "id": "61f9660a",
   "metadata": {},
   "outputs": [
    {
     "name": "stdout",
     "output_type": "stream",
     "text": [
      "['2->4', '6->48', '50->97', '99']\n"
     ]
    }
   ],
   "source": [
    "from itertools import pairwise\n",
    "\n",
    "def missingNoRange(nums, lower, upper) :\n",
    "    def f(a, b):\n",
    "        return str(a) if a == b else f'{a}->{b}'\n",
    "\n",
    "    n = len(nums)\n",
    "    if n == 0:\n",
    "        return [f(lower, upper)]\n",
    "    ans = []\n",
    "    if nums[0] > lower:\n",
    "        ans.append(f(lower, nums[0] - 1))\n",
    "    for a, b in pairwise(nums):\n",
    "        if b - a > 1:\n",
    "            ans.append(f(a + 1, b - 1))\n",
    "    if nums[-1] < upper:\n",
    "        ans.append(f(nums[-1] + 1, upper))\n",
    "    return ans\n",
    "\n",
    "arr=[0,1,5,49,98]\n",
    "low = 0\n",
    "high = 99\n",
    "print(missingNoRange(arr, low, high))"
   ]
  },
  {
   "cell_type": "markdown",
   "id": "86675e06",
   "metadata": {},
   "source": [
    "<aside>\n",
    "💡 **Question 8**\n",
    "\n",
    "Given an array of meeting time intervals where intervals[i] = [starti, endi],\n",
    "determine if a person could attend all meetings.\n",
    "\n",
    "**Example 1:**\n",
    "Input: intervals = [[0,30],[5,10],[15,20]]\n",
    "Output: false\n",
    "</aside>"
   ]
  },
  {
   "cell_type": "code",
   "execution_count": 8,
   "id": "4567f28a",
   "metadata": {},
   "outputs": [
    {
     "name": "stdout",
     "output_type": "stream",
     "text": [
      "True\n"
     ]
    }
   ],
   "source": [
    "class Meeting:\n",
    "    \n",
    "    def __init__(self, start, end):\n",
    "        self.start = start\n",
    "        self.end = end\n",
    "\n",
    "def maxMeetings(l, N):\n",
    "    \n",
    "    l.sort(key = lambda x: x.end)\n",
    "    time_limit = l[0].end\n",
    "    for i in range(1, N):\n",
    "        if l[i].start > time_limit:\n",
    "            return True\n",
    "        else:\n",
    "            return False\n",
    "\n",
    "if __name__ == '__main__':\n",
    "\n",
    "    startTime = [1, 8]\n",
    "    finishTime = [2, 8]\n",
    "    noOfMeetings = len(startTime)\n",
    "    l = []\n",
    "    for i in range(noOfMeetings):\n",
    "        l.append(Meeting(startTime[i], finishTime[i]))\n",
    "    print(maxMeetings(l, noOfMeetings))"
   ]
  }
 ],
 "metadata": {
  "kernelspec": {
   "display_name": "Python 3 (ipykernel)",
   "language": "python",
   "name": "python3"
  },
  "language_info": {
   "codemirror_mode": {
    "name": "ipython",
    "version": 3
   },
   "file_extension": ".py",
   "mimetype": "text/x-python",
   "name": "python",
   "nbconvert_exporter": "python",
   "pygments_lexer": "ipython3",
   "version": "3.10.7"
  }
 },
 "nbformat": 4,
 "nbformat_minor": 5
}
