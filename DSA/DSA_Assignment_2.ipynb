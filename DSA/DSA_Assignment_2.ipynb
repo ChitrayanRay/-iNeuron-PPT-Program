{
 "cells": [
  {
   "cell_type": "markdown",
   "id": "e08fb246",
   "metadata": {},
   "source": [
    "<aside>\n",
    "💡 **Question 1**\n",
    "    \n",
    "Given an integer array nums of 2n integers, group these integers into n pairs (a1, b1), (a2, b2),..., (an, bn) such that the sum of min(ai, bi) for all i is maximized. Return the maximized sum.\n",
    "\n",
    "**Example 1:**\n",
    "Input: nums = [1,4,3,2]\n",
    "Output: 4\n",
    "\n",
    "**Explanation:** All possible pairings (ignoring the ordering of elements) are:\n",
    "\n",
    "1. (1, 4), (2, 3) -> min(1, 4) + min(2, 3) = 1 + 2 = 3\n",
    "2. (1, 3), (2, 4) -> min(1, 3) + min(2, 4) = 1 + 2 = 3\n",
    "3. (1, 2), (3, 4) -> min(1, 2) + min(3, 4) = 1 + 3 = 4\n",
    "So the maximum possible sum is 4\n",
    "</aside>"
   ]
  },
  {
   "cell_type": "code",
   "execution_count": 1,
   "id": "75ade6ac",
   "metadata": {},
   "outputs": [
    {
     "name": "stdout",
     "output_type": "stream",
     "text": [
      "5\n"
     ]
    }
   ],
   "source": [
    "def maxSumPair(nums):\n",
    "    nums.sort()\n",
    "    i, res = 0, 0\n",
    "    while i < len(nums):\n",
    "        res+= min(nums[i], nums[i+1])\n",
    "        i+= 2\n",
    "    return res\n",
    "\n",
    "arr = [1, 4, 2, 5]\n",
    "print(maxSumPair(arr))"
   ]
  },
  {
   "cell_type": "markdown",
   "id": "3459614f",
   "metadata": {},
   "source": [
    "<aside>\n",
    "💡 **Question 2**\n",
    "    \n",
    "Alice has n candies, where the ith candy is of type candyType[i]. Alice noticed that she started to gain weight, so she visited a doctor. \n",
    "\n",
    "The doctor advised Alice to only eat n / 2 of the candies she has (n is always even). Alice likes her candies very much, and she wants to eat the maximum number of different types of candies while still following the doctor's advice. \n",
    "\n",
    "Given the integer array candyType of length n, return the maximum number of different types of candies she can eat if she only eats n / 2 of them.\n",
    "\n",
    "**Example 1:**\n",
    "Input: candyType = [1,1,2,2,3,3]\n",
    "Output: 3\n",
    "\n",
    "**Explanation:** Alice can only eat 6 / 2 = 3 candies. Since there are only 3 types, she can eat one of each type.\n",
    "</aside>"
   ]
  },
  {
   "cell_type": "code",
   "execution_count": 2,
   "id": "ff7d4918",
   "metadata": {},
   "outputs": [
    {
     "name": "stdout",
     "output_type": "stream",
     "text": [
      "3\n"
     ]
    }
   ],
   "source": [
    "def maxTypeCandies(candyType):\n",
    "    l = len(candyType)\n",
    "    consume = l//2\n",
    "    distinctCandyType = set(candyType) \n",
    "    if consume <= len(distinctCandyType):\n",
    "        return consume\n",
    "    elif consume > len(distinctCandyType):\n",
    "        return len(distinctCandyType)\n",
    "    \n",
    "arr = [2, 6, 1, 2, 6, 4]\n",
    "print(maxTypeCandies(arr))"
   ]
  },
  {
   "cell_type": "markdown",
   "id": "ccbdde3f",
   "metadata": {},
   "source": [
    "<aside>\n",
    "💡 **Question 3**\n",
    "    \n",
    "We define a harmonious array as an array where the difference between its maximum value\n",
    "and its minimum value is exactly 1.\n",
    "\n",
    "Given an integer array nums, return the length of its longest harmonious subsequence\n",
    "among all its possible subsequences.\n",
    "\n",
    "A subsequence of an array is a sequence that can be derived from the array by deleting some or no elements without changing the order of the remaining elements.\n",
    "\n",
    "**Example 1:**\n",
    "Input: nums = [1,3,2,2,5,2,3,7]\n",
    "Output: 5\n",
    "\n",
    "**Explanation:** The longest harmonious subsequence is [3,2,2,2,3].\n",
    "</aside>"
   ]
  },
  {
   "cell_type": "code",
   "execution_count": 3,
   "id": "d167891f",
   "metadata": {},
   "outputs": [
    {
     "name": "stdout",
     "output_type": "stream",
     "text": [
      "5\n"
     ]
    }
   ],
   "source": [
    "import collections\n",
    "def longestHarmoniousSeq(nums):\n",
    "    freq = collections.Counter(nums)\n",
    "    maxArrSubseq = 0 \n",
    "    for key in freq:\n",
    "        if key + 1 in freq:\n",
    "            maxArrSubseq = max(maxArrSubseq, freq[key] + freq[key+1])\n",
    "                \n",
    "    return maxArrSubseq\n",
    "\n",
    "arr = [5, 6, 7, 6, 5, 7, 6]\n",
    "print(longestHarmoniousSeq(arr))"
   ]
  },
  {
   "cell_type": "markdown",
   "id": "1d244a86",
   "metadata": {},
   "source": [
    "<aside>\n",
    "💡 **Question 4**\n",
    "    \n",
    "You have a long flowerbed in which some of the plots are planted, and some are not.\n",
    "However, flowers cannot be planted in adjacent plots.\n",
    "Given an integer array flowerbed containing 0's and 1's, where 0 means empty and 1 means not empty, and an integer n, return true if n new flowers can be planted in the flowerbed without violating the no-adjacent-flowers rule and false otherwise.\n",
    "\n",
    "**Example 1:**\n",
    "Input: flowerbed = [1,0,0,0,1], n = 1\n",
    "Output: true\n",
    "</aside>"
   ]
  },
  {
   "cell_type": "code",
   "execution_count": 4,
   "id": "162598c0",
   "metadata": {},
   "outputs": [
    {
     "name": "stdout",
     "output_type": "stream",
     "text": [
      "False\n"
     ]
    }
   ],
   "source": [
    "def noAdjacentFlowerPlots(flowerbed, n):\n",
    "    step = 1 \n",
    "    for slop in flowerbed:\n",
    "        if slop == 0:\n",
    "            step+= 1\n",
    "            if step == 3:\n",
    "                n-= 1;\n",
    "                step = 1\n",
    "                if n == 0:\n",
    "                    return True;\n",
    "        else:\n",
    "            step = 0\n",
    "    if step == 2:\n",
    "            n-= 1\n",
    "    return n <= 0\n",
    "\n",
    "arr = [1, 0, 0, 0, 1, 0, 0, 0, 0]\n",
    "flowers = 4\n",
    "print(noAdjacentFlowerPlots(arr, flowers))"
   ]
  },
  {
   "cell_type": "markdown",
   "id": "6e7a2af4",
   "metadata": {},
   "source": [
    "<aside>\n",
    "💡 **Question 5**\n",
    "\n",
    "Given an integer array nums, find three numbers whose product is maximum and return the maximum product.\n",
    "\n",
    "**Example 1:**\n",
    "Input: nums = [1,2,3]\n",
    "Output: 6\n",
    "</aside>"
   ]
  },
  {
   "cell_type": "code",
   "execution_count": 5,
   "id": "24b3c146",
   "metadata": {},
   "outputs": [
    {
     "name": "stdout",
     "output_type": "stream",
     "text": [
      "39200\n"
     ]
    }
   ],
   "source": [
    "def maxProduct(nums):\n",
    "    max1 = max2 = max3 = -1000 \n",
    "    min1 = min2 = 1000\n",
    "    for i in nums:\n",
    "        if i > max1:\n",
    "            max3 = max2\n",
    "            max2 = max1\n",
    "            max1 = i\n",
    "        elif i > max2:\n",
    "            max3 = max2\n",
    "            max2 = i\n",
    "        elif i > max3:\n",
    "            max3 = i\n",
    "        if i < min1:\n",
    "            min2 = min1\n",
    "            min1 = i\n",
    "        elif i < min2:\n",
    "            min2 = i\n",
    "    return max(max1 * max2 * max3, min1 * min2 * max1)\n",
    "\n",
    "arr = [-100, -98, -1, 2, 3, 4]\n",
    "print(maxProduct(arr))"
   ]
  },
  {
   "cell_type": "markdown",
   "id": "a787a0c3",
   "metadata": {},
   "source": [
    "<aside>\n",
    "💡 **Question 6**\n",
    "\n",
    "Given an array of integers nums which is sorted in ascending order, and an integer target,\n",
    "write a function to search target in nums. If target exists, then return its index. Otherwise,\n",
    "return -1.\n",
    "\n",
    "You must write an algorithm with O(log n) runtime complexity.\n",
    "\n",
    "Input: nums = [-1,0,3,5,9,12], target = 9\n",
    "Output: 4\n",
    "\n",
    "**Explanation:** 9 exists in nums and its index is 4\n",
    "</aside>"
   ]
  },
  {
   "cell_type": "code",
   "execution_count": 6,
   "id": "19fbb206",
   "metadata": {},
   "outputs": [
    {
     "name": "stdout",
     "output_type": "stream",
     "text": [
      "4\n"
     ]
    }
   ],
   "source": [
    "def arrayNumSearch(nums, target):\n",
    "    low, high = 0, len(nums) - 1\n",
    "    while(low < high):\n",
    "        mid = low + (high - low)//2\n",
    "        if(target <= nums[mid]):\n",
    "            high = mid\n",
    "        else:\n",
    "            low = mid + 1\n",
    "    return low if nums[low] == target else -1\n",
    "\n",
    "arr = [-1, 0, 3, 5, 9, 12]\n",
    "toSearch = 9\n",
    "print(arrayNumSearch(arr, toSearch))"
   ]
  },
  {
   "cell_type": "markdown",
   "id": "ac45d0f5",
   "metadata": {},
   "source": [
    "<aside>\n",
    "💡 **Question 7**\n",
    "\n",
    "An array is monotonic if it is either monotone increasing or monotone decreasing.\n",
    "\n",
    "An array nums is monotone increasing if for all i <= j, nums[i] <= nums[j]. An array nums is\n",
    "monotone decreasing if for all i <= j, nums[i] >= nums[j].\n",
    "\n",
    "Given an integer array nums, return true if the given array is monotonic, or false otherwise.\n",
    "\n",
    "**Example 1:**\n",
    "Input: nums = [1,2,2,3]\n",
    "Output: true\n",
    "</aside>"
   ]
  },
  {
   "cell_type": "code",
   "execution_count": 7,
   "id": "100d39ff",
   "metadata": {},
   "outputs": [
    {
     "name": "stdout",
     "output_type": "stream",
     "text": [
      "True\n"
     ]
    }
   ],
   "source": [
    "def isMonotonic(nums):\n",
    "    is_increasing = True\n",
    "    is_decreasing = True\n",
    "\n",
    "    for i in range(len(nums) - 1):\n",
    "        if nums[i] > nums[i + 1]:\n",
    "            is_increasing = False\n",
    "        if nums[i] < nums[i + 1]:\n",
    "            is_decreasing = False\n",
    "\n",
    "    return is_increasing or is_decreasing\n",
    "\n",
    "arr = [2, 9, 23, 43]\n",
    "print(isMonotonic(arr))"
   ]
  },
  {
   "cell_type": "markdown",
   "id": "f5e399c1",
   "metadata": {},
   "source": [
    "<aside>\n",
    "💡 **Question 8**\n",
    "\n",
    "You are given an integer array nums and an integer k.\n",
    "\n",
    "In one operation, you can choose any index i where 0 <= i < nums.length and change nums[i] to nums[i] + x where x is an integer from the range [-k, k]. You can apply this operation at most once for each index i.\n",
    "\n",
    "The score of nums is the difference between the maximum and minimum elements in nums.\n",
    "\n",
    "Return the minimum score of nums after applying the mentioned operation at most once for each index in it.\n",
    "\n",
    "**Example 1:**\n",
    "Input: nums = [1], k = 0\n",
    "Output: 0\n",
    "\n",
    "**Explanation:** The score is max(nums) - min(nums) = 1 - 1 = 0.\n",
    "</aside>"
   ]
  },
  {
   "cell_type": "code",
   "execution_count": 8,
   "id": "914c8d65",
   "metadata": {},
   "outputs": [
    {
     "name": "stdout",
     "output_type": "stream",
     "text": [
      "6\n"
     ]
    }
   ],
   "source": [
    "def minNumScore(nums, k):\n",
    "    if len(nums) == 1:\n",
    "        return 0\n",
    "    else:\n",
    "        return max(0, max(nums) - min(nums) - 2 * k)\n",
    "    \n",
    "arr = [0, 10]\n",
    "num = 2\n",
    "print(minNumScore(arr, num))"
   ]
  }
 ],
 "metadata": {
  "kernelspec": {
   "display_name": "Python 3 (ipykernel)",
   "language": "python",
   "name": "python3"
  },
  "language_info": {
   "codemirror_mode": {
    "name": "ipython",
    "version": 3
   },
   "file_extension": ".py",
   "mimetype": "text/x-python",
   "name": "python",
   "nbconvert_exporter": "python",
   "pygments_lexer": "ipython3",
   "version": "3.9.12"
  }
 },
 "nbformat": 4,
 "nbformat_minor": 5
}
