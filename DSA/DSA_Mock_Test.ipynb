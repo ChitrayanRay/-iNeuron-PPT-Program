{
 "cells": [
  {
   "cell_type": "markdown",
   "id": "0e1c1327",
   "metadata": {},
   "source": [
    "**Move Zeroes**\n",
    "Given an integer array nums, move all 0's to the end of it while maintaining the relative order of the non-zero elements.\n",
    "\n",
    "**Note** that you must do this in-place without making a copy of the array.\n",
    "\n",
    "**Example 1:**\n",
    "**Input:** nums = [0,1,0,3,12]\n",
    "**Output:** [1,3,12,0,0]\n",
    "\n",
    "**Example 2:**\n",
    "**Input:** nums = [0]\n",
    "**Output:** [0]\n",
    "\n",
    "**Constraints:**\n",
    "a. 1 <= nums.length <= 10^4\n",
    "b. -2^31 <= nums[i] <= 2^31 - 1"
   ]
  },
  {
   "cell_type": "code",
   "execution_count": 1,
   "id": "52b7b597",
   "metadata": {},
   "outputs": [
    {
     "name": "stdout",
     "output_type": "stream",
     "text": [
      "[1, 3, 12, 0, 0]\n",
      "[0]\n"
     ]
    }
   ],
   "source": [
    "def moveNums(nums) :\n",
    "    for i in nums :\n",
    "        if i == 0 :  \n",
    "            nums.append(0)\n",
    "            nums.remove(i)\n",
    "        else :\n",
    "            continue \n",
    "    return nums\n",
    "\n",
    "# Example 1\n",
    "array1 = [0, 1, 0, 3, 12]\n",
    "print(moveNums(array1))\n",
    "\n",
    "# Exampele 2\n",
    "array2 = [0]\n",
    "print(moveNums(array2))"
   ]
  },
  {
   "cell_type": "markdown",
   "id": "c83636fc",
   "metadata": {},
   "source": [
    "**First Unique Character in a String**\n",
    "\n",
    "Given a string s, find the first non-repeating character in it and return its index. If it does not exist, return -1.\n",
    "\n",
    "**Example 1:**\n",
    "**Input:** s = \"leetcode\"\n",
    "**Output:** 0\n",
    "\n",
    "**Example 2:**\n",
    "**Input:** s = \"loveleetcode\"\n",
    "**Output:** 2\n",
    "\n",
    "**Example 3:**\n",
    "**Input:** s = \"aabb\"\n",
    "**Output:** -1\n",
    "\n",
    "**Constraints:**\n",
    "a. 1 <= s.length <= 10^5\n",
    "b. s consists of only lowercase English letters."
   ]
  },
  {
   "cell_type": "code",
   "execution_count": 2,
   "id": "95fe9d0a",
   "metadata": {},
   "outputs": [
    {
     "name": "stdout",
     "output_type": "stream",
     "text": [
      "0\n",
      "2\n",
      "-1\n"
     ]
    }
   ],
   "source": [
    "def firstUniqCharInStr(s):\n",
    "    charCount = {}\n",
    "\n",
    "    for char in s:\n",
    "        charCount[char] = charCount.get(char, 0) + 1\n",
    "\n",
    "    for i, char in enumerate(s):\n",
    "        if charCount[char] == 1:\n",
    "            return i\n",
    "    return -1\n",
    "\n",
    "# Example 1 \n",
    "s = \"leetcode\"\n",
    "index = firstUniqCharInStr(s)\n",
    "print(index)\n",
    "\n",
    "# Exampele 2\n",
    "s = \"loveleetcode\"\n",
    "index = firstUniqCharInStr(s)\n",
    "print(index)\n",
    "\n",
    "# Example 3\n",
    "s = \"aabb\"\n",
    "index = firstUniqCharInStr(s)\n",
    "print(index)"
   ]
  }
 ],
 "metadata": {
  "kernelspec": {
   "display_name": "Python 3 (ipykernel)",
   "language": "python",
   "name": "python3"
  },
  "language_info": {
   "codemirror_mode": {
    "name": "ipython",
    "version": 3
   },
   "file_extension": ".py",
   "mimetype": "text/x-python",
   "name": "python",
   "nbconvert_exporter": "python",
   "pygments_lexer": "ipython3",
   "version": "3.10.7"
  }
 },
 "nbformat": 4,
 "nbformat_minor": 5
}
