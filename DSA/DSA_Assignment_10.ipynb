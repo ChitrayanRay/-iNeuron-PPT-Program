{
 "cells": [
  {
   "cell_type": "markdown",
   "id": "e1bd15da",
   "metadata": {},
   "source": [
    "<aside>\n",
    "💡 **Question 1**\n",
    "\n",
    "Given an integer `n`, return *`true` if it is a power of three. Otherwise, return `false`*.\n",
    "\n",
    "An integer `n` is a power of three, if there exists an integer `x` such that `n == 3x`.\n",
    "\n",
    "**Example 1:**\n",
    "    \n",
    "Input: n = 27\n",
    "Output: true\n",
    "Explanation: 27 = 33\n",
    "    \n",
    "**Example 2:**\n",
    "    \n",
    "Input: n = 0\n",
    "Output: false\n",
    "Explanation: There is no x where 3x = 0.\n",
    "\n",
    "**Example 3:**\n",
    "\n",
    "Input: n = -1\n",
    "Output: false\n",
    "Explanation: There is no x where 3x = (-1).\n",
    "</aside>"
   ]
  },
  {
   "cell_type": "code",
   "execution_count": 1,
   "id": "fce004ac",
   "metadata": {},
   "outputs": [
    {
     "name": "stdout",
     "output_type": "stream",
     "text": [
      "True\n",
      "False\n",
      "False\n"
     ]
    }
   ],
   "source": [
    "def isPowerOfThree(n):\n",
    "    if n <= 0:\n",
    "        return False\n",
    "\n",
    "    while n % 3 == 0:\n",
    "        n /= 3\n",
    "\n",
    "    return n == 1\n",
    "\n",
    "print(isPowerOfThree(27))  \n",
    "print(isPowerOfThree(0))  \n",
    "print(isPowerOfThree(-1))"
   ]
  },
  {
   "cell_type": "markdown",
   "id": "d5811ac1",
   "metadata": {},
   "source": [
    "<aside>\n",
    "💡 **Question 2**\n",
    "\n",
    "You have a list `arr` of all integers in the range `[1, n]` sorted in a strictly increasing order. Apply the following algorithm on `arr`:\n",
    "\n",
    "- Starting from left to right, remove the first number and every other number afterward until you reach the end of the list.\n",
    "- Repeat the previous step again, but this time from right to left, remove the rightmost number and every other number from the remaining numbers.\n",
    "- Keep repeating the steps again, alternating left to right and right to left, until a single number remains.\n",
    "\n",
    "Given the integer `n`, return *the last number that remains in* `arr`.\n",
    "\n",
    "**Example 1:**\n",
    "\n",
    "Input: n = 9\n",
    "Output: 6\n",
    "Explanation:\n",
    "arr = [1, 2,3, 4,5, 6,7, 8,9]\n",
    "arr = [2,4, 6,8]\n",
    "arr = [2, 6]\n",
    "arr = [6]\n",
    "\n",
    "**Example 2:**\n",
    "\n",
    "Input: n = 1\n",
    "Output: 1\n",
    "</aside>"
   ]
  },
  {
   "cell_type": "code",
   "execution_count": 2,
   "id": "28828b50",
   "metadata": {},
   "outputs": [
    {
     "name": "stdout",
     "output_type": "stream",
     "text": [
      "6\n",
      "1\n"
     ]
    }
   ],
   "source": [
    "def lastRemaining(n):\n",
    "    arr = list(range(1, n + 1))\n",
    "\n",
    "    leftToRight = True\n",
    "\n",
    "    while len(arr) > 1:\n",
    "        if leftToRight:\n",
    "            arr = arr[1::2]\n",
    "        else:\n",
    "            arr = arr[:-1:2]\n",
    "\n",
    "        leftToRight = not leftToRight\n",
    "\n",
    "    return arr[0]\n",
    "\n",
    "print(lastRemaining(9))  \n",
    "print(lastRemaining(1))"
   ]
  },
  {
   "cell_type": "markdown",
   "id": "2e1fc006",
   "metadata": {},
   "source": [
    "<aside>\n",
    "💡 **Question 3**\n",
    "\n",
    "****Given a set represented as a string, write a recursive code to print all subsets of it. The subsets can be printed in any order.\n",
    "\n",
    "**Example 1:**\n",
    "\n",
    "Input :  set = “abc”\n",
    "\n",
    "Output : { “”, “a”, “b”, “c”, “ab”, “ac”, “bc”, “abc”}\n",
    "\n",
    "**Example 2:**\n",
    "\n",
    "Input : set = “abcd”\n",
    "\n",
    "Output : { “”, “a” ,”ab” ,”abc” ,”abcd”, “abd” ,”ac” ,”acd”, “ad” ,”b”, “bc” ,”bcd” ,”bd” ,”c” ,”cd” ,”d” }\n",
    "</aside>"
   ]
  },
  {
   "cell_type": "code",
   "execution_count": 3,
   "id": "6dffa91e",
   "metadata": {},
   "outputs": [
    {
     "name": "stdout",
     "output_type": "stream",
     "text": [
      "['', 'c', 'b', 'bc', 'a', 'ac', 'ab', 'abc']\n",
      "['', 'd', 'c', 'cd', 'b', 'bd', 'bc', 'bcd', 'a', 'ad', 'ac', 'acd', 'ab', 'abd', 'abc', 'abcd']\n"
     ]
    }
   ],
   "source": [
    "def printSubsets(s, currSubset, index, subsets):\n",
    "    n = len(s)\n",
    "\n",
    "    if index == n:\n",
    "        subsets.append(\"\".join(currSubset))\n",
    "        return\n",
    "\n",
    "    printSubsets(s, currSubset, index + 1, subsets)\n",
    "\n",
    "    currSubset.append(s[index])\n",
    "    printSubsets(s, currSubset, index + 1, subsets)\n",
    "\n",
    "    currSubset.pop()\n",
    "\n",
    "def generateSubsets(s):\n",
    "    subsets = []\n",
    "    printSubsets(s, [], 0, subsets)\n",
    "    return subsets\n",
    "\n",
    "subsets1 = generateSubsets(\"abc\")\n",
    "print(subsets1)\n",
    "\n",
    "subsets2 = generateSubsets(\"abcd\")\n",
    "print(subsets2)"
   ]
  },
  {
   "cell_type": "markdown",
   "id": "1f970859",
   "metadata": {},
   "source": [
    "<aside>\n",
    "💡 **Question 4**\n",
    "\n",
    "Given a string calculate length of the string using recursion.\n",
    "\n",
    "**Examples:**\n",
    "\n",
    "Input : str = \"abcd\"\n",
    "Output :4\n",
    "\n",
    "Input : str = \"GEEKSFORGEEKS\"\n",
    "Output :13\n",
    "</aside>"
   ]
  },
  {
   "cell_type": "code",
   "execution_count": 4,
   "id": "c39277aa",
   "metadata": {},
   "outputs": [
    {
     "name": "stdout",
     "output_type": "stream",
     "text": [
      "4\n",
      "13\n"
     ]
    }
   ],
   "source": [
    "def calculateLength(str):\n",
    "    if str == \"\":\n",
    "        return 0\n",
    "    else:\n",
    "        return 1 + calculateLength(str[1:])\n",
    "\n",
    "print(calculateLength(\"abcd\")) \n",
    "print(calculateLength(\"GEEKSFORGEEKS\"))"
   ]
  },
  {
   "cell_type": "markdown",
   "id": "57666548",
   "metadata": {},
   "source": [
    "<aside>\n",
    "💡 **Question 5**\n",
    "\n",
    "We are given a string S, we need to find count of all contiguous substrings starting and ending with same character.\n",
    "\n",
    "**Examples :**\n",
    "\n",
    "Input  : S = \"abcab\"\n",
    "    \n",
    "Output : 7\n",
    "    \n",
    "There are 15 substrings of \"abcab\"\n",
    "a, ab, abc, abca, abcab, b, bc, bca\n",
    "bcab, c, ca, cab, a, ab, b\n",
    "Out of the above substrings, there\n",
    "are 7 substrings : a, abca, b, bcab,\n",
    "c, a and b.\n",
    "\n",
    "Input  : S = \"aba\"\n",
    "    \n",
    "Output : 4\n",
    "    \n",
    "The substrings are a, b, a and aba\n",
    "</aside>"
   ]
  },
  {
   "cell_type": "code",
   "execution_count": 5,
   "id": "2477e785",
   "metadata": {},
   "outputs": [
    {
     "name": "stdout",
     "output_type": "stream",
     "text": [
      "7\n",
      "4\n"
     ]
    }
   ],
   "source": [
    "def countSubstrings(S):\n",
    "    subStrCount = 0\n",
    "    n = len(S)\n",
    "\n",
    "    for i in range(n):\n",
    "        for j in range(i, n):\n",
    "            if S[j] == S[i]:\n",
    "                subStrCount += 1\n",
    "\n",
    "    return subStrCount\n",
    "\n",
    "print(countSubstrings(\"abcab\"))  \n",
    "print(countSubstrings(\"aba\"))"
   ]
  },
  {
   "cell_type": "markdown",
   "id": "2f4e2dc5",
   "metadata": {},
   "source": [
    "<aside>\n",
    "💡 **Question 6**\n",
    "\n",
    "The [tower of Hanoi](https://en.wikipedia.org/wiki/Tower_of_Hanoi) is a famous puzzle where we have three rods and **N** disks. The objective of the puzzle is to move the entire stack to another rod. You are given the number of discs **N**. Initially, these discs are in the rod 1. You need to print all the steps of discs movement so that all the discs reach the 3rd rod. Also, you need to find the total moves.**Note:** The discs are arranged such that the **top disc is numbered 1** and the **bottom-most disc is numbered N**. Also, all the discs have **different sizes** and a bigger disc **cannot** be put on the top of a smaller disc. Refer the provided link to get a better clarity about the puzzle.\n",
    "\n",
    "**Example 1:**\n",
    "\n",
    "Input:\n",
    "    \n",
    "N = 2\n",
    "    \n",
    "Output:\n",
    "    \n",
    "move disk 1 from rod 1 to rod 2\n",
    "    \n",
    "move disk 2 from rod 1 to rod 3\n",
    "    \n",
    "move disk 1 from rod 2 to rod 3\n",
    "    \n",
    "3\n",
    "    \n",
    "**Explanation:** For N=2 , steps will be\n",
    "as follows in the example and total\n",
    "3 steps will be taken.\n",
    "\n",
    "**Example 2:**\n",
    "\n",
    "Input:\n",
    "    \n",
    "N = 3\n",
    "    \n",
    "Output:\n",
    "    \n",
    "move disk 1 from rod 1 to rod 3\n",
    "    \n",
    "move disk 2 from rod 1 to rod 2\n",
    "    \n",
    "move disk 1 from rod 3 to rod 2\n",
    "    \n",
    "move disk 3 from rod 1 to rod 3\n",
    "    \n",
    "move disk 1 from rod 2 to rod 1\n",
    "    \n",
    "move disk 2 from rod 2 to rod 3\n",
    "    \n",
    "move disk 1 from rod 1 to rod 3\n",
    "    \n",
    "7\n",
    "    \n",
    "**Explanation:** For N=3 , steps will be\n",
    "as follows in the example and total\n",
    "7 steps will be taken.\n",
    "</aside>"
   ]
  },
  {
   "cell_type": "code",
   "execution_count": 6,
   "id": "ebcc1c71",
   "metadata": {},
   "outputs": [
    {
     "name": "stdout",
     "output_type": "stream",
     "text": [
      "move disk 1 from rod 1 to rod 2 \n",
      "\n",
      "move disk 2 from rod 1 to rod 3 \n",
      "\n",
      "move disk 1 from rod 2 to rod 3 \n",
      "\n",
      "3 \n",
      "\n",
      "move disk 1 from rod 1 to rod 3 \n",
      "\n",
      "move disk 2 from rod 1 to rod 2 \n",
      "\n",
      "move disk 1 from rod 3 to rod 2 \n",
      "\n",
      "move disk 3 from rod 1 to rod 3 \n",
      "\n",
      "move disk 1 from rod 2 to rod 1 \n",
      "\n",
      "move disk 2 from rod 2 to rod 3 \n",
      "\n",
      "move disk 1 from rod 1 to rod 3 \n",
      "\n",
      "7\n"
     ]
    }
   ],
   "source": [
    "def towerOfHanoi(N, source, destination, auxiliary):\n",
    "    if N == 1:\n",
    "        print(\"move disk 1 from rod\", source, \"to rod\", destination, \"\\n\")\n",
    "        return 1\n",
    "    else:\n",
    "        moves = 0\n",
    "        moves += towerOfHanoi(N-1, source, auxiliary, destination)\n",
    "        print(\"move disk\", N, \"from rod\", source, \"to rod\", destination, \"\\n\")\n",
    "        moves += 1\n",
    "        moves += towerOfHanoi(N-1, auxiliary, destination, source)\n",
    "        return moves\n",
    "\n",
    "N = 2\n",
    "print(towerOfHanoi(N, 1, 3, 2), \"\\n\")\n",
    "\n",
    "N = 3\n",
    "print(towerOfHanoi(N, 1, 3, 2))"
   ]
  },
  {
   "cell_type": "markdown",
   "id": "8abaa1d3",
   "metadata": {},
   "source": [
    "<aside>\n",
    "💡 **Question 7**\n",
    "\n",
    "Given a string **str**, the task is to print all the permutations of **str**. A **permutation** is an arrangement of all or part of a set of objects, with regard to the order of the arrangement. For instance, the words ‘bat’ and ‘tab’ represents two distinct permutation (or arrangements) of a similar three letter word.\n",
    "\n",
    "**Examples:**\n",
    "\n",
    "> Input: str = “cd”\n",
    "> \n",
    "> \n",
    "> **Output:** cd dc\n",
    "> \n",
    "> **Input:** str = “abb”\n",
    "> \n",
    "> **Output:** abb abb bab bba bab bba\n",
    "> \n",
    "</aside>"
   ]
  },
  {
   "cell_type": "code",
   "execution_count": 7,
   "id": "6cddbbb6",
   "metadata": {},
   "outputs": [
    {
     "name": "stdout",
     "output_type": "stream",
     "text": [
      "cd\n",
      "dc\n",
      "\n",
      "\n",
      "abb\n",
      "abb\n",
      "bab\n",
      "bba\n",
      "bba\n",
      "bab\n"
     ]
    }
   ],
   "source": [
    "def permute(str, l, r):\n",
    "    if l == r:\n",
    "        print(''.join(str))\n",
    "    else:\n",
    "        for i in range(l, r + 1):\n",
    "            str[l], str[i] = str[i], str[l]\n",
    "            permute(str, l + 1, r)\n",
    "            str[l], str[i] = str[i], str[l]\n",
    "\n",
    "str = list(\"cd\")\n",
    "permute(str, 0, len(str) - 1)\n",
    "print(\"\\n\")\n",
    "str = list(\"abb\")\n",
    "permute(str, 0, len(str) - 1)"
   ]
  },
  {
   "cell_type": "markdown",
   "id": "c02eadad",
   "metadata": {},
   "source": [
    "<aside>\n",
    "💡 **Question 8**\n",
    "\n",
    "Given a string, count total number of consonants in it. A consonant is an English alphabet character that is not vowel (a, e, i, o and u). Examples of constants are b, c, d, f, and g.\n",
    "\n",
    "**Examples :**\n",
    "\n",
    "Input : abc de\n",
    "    \n",
    "Output : 3\n",
    "    \n",
    "There are three consonants b, c and d.\n",
    "\n",
    "Input : geeksforgeeks portal\n",
    "    \n",
    "Output : 12\n",
    "</aside>"
   ]
  },
  {
   "cell_type": "code",
   "execution_count": 8,
   "id": "d2422fa9",
   "metadata": {},
   "outputs": [
    {
     "name": "stdout",
     "output_type": "stream",
     "text": [
      "3\n",
      "12\n"
     ]
    }
   ],
   "source": [
    "def countConsonants(string):\n",
    "    vowels = \"aeiou\"\n",
    "    consonantsCount = 0\n",
    "\n",
    "    for char in string:\n",
    "        if char.isalpha() and char.lower() not in vowels:\n",
    "            consonantsCount += 1\n",
    "\n",
    "    return consonantsCount\n",
    "\n",
    "string = \"abc de\"\n",
    "print(countConsonants(string))\n",
    "\n",
    "string = \"geeksforgeeks portal\"\n",
    "print(countConsonants(string))"
   ]
  }
 ],
 "metadata": {
  "kernelspec": {
   "display_name": "Python 3 (ipykernel)",
   "language": "python",
   "name": "python3"
  },
  "language_info": {
   "codemirror_mode": {
    "name": "ipython",
    "version": 3
   },
   "file_extension": ".py",
   "mimetype": "text/x-python",
   "name": "python",
   "nbconvert_exporter": "python",
   "pygments_lexer": "ipython3",
   "version": "3.10.7"
  }
 },
 "nbformat": 4,
 "nbformat_minor": 5
}
