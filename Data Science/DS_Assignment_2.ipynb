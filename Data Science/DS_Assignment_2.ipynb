{
 "cells": [
  {
   "cell_type": "markdown",
   "id": "77279d57",
   "metadata": {},
   "source": [
    "**1.** **Scenario:** A company wants to analyze the sales performance of its products in different regions. They have collected the following data:\n",
    "\n",
    "   **Region A:** [10, 15, 12, 8, 14]\n",
    "   \n",
    "   **Region B:** [18, 20, 16, 22, 25]\n",
    "   \n",
    "Calculate the **mean sales** for **each region**."
   ]
  },
  {
   "cell_type": "code",
   "execution_count": 1,
   "id": "4d8bf98c",
   "metadata": {},
   "outputs": [
    {
     "name": "stdout",
     "output_type": "stream",
     "text": [
      "11.8\n",
      "20.2\n"
     ]
    }
   ],
   "source": [
    "meanSalesA = (10 + 15 + 12 + 8 + 14) / 5\n",
    "\n",
    "meanSalesB = (18 + 20 + 16 + 22 + 25) / 5\n",
    "\n",
    "print(meanSalesA)\n",
    "\n",
    "print(meanSalesB)"
   ]
  },
  {
   "cell_type": "code",
   "execution_count": 2,
   "id": "67f30d45",
   "metadata": {},
   "outputs": [],
   "source": [
    "import pandas as pd"
   ]
  },
  {
   "cell_type": "markdown",
   "id": "4965fbf0",
   "metadata": {},
   "source": [
    "**2. Scenario:** A survey is conducted to measure customer satisfaction on a scale of 1 to 5. The data collected is as follows:\n",
    "   \n",
    "   [4, 5, 2, 3, 5, 4, 3, 2, 4, 5]\n",
    "   \n",
    "Calculate the **mode of the survey responses**."
   ]
  },
  {
   "cell_type": "code",
   "execution_count": 3,
   "id": "a4d9a550",
   "metadata": {},
   "outputs": [
    {
     "data": {
      "text/html": [
       "<div>\n",
       "<style scoped>\n",
       "    .dataframe tbody tr th:only-of-type {\n",
       "        vertical-align: middle;\n",
       "    }\n",
       "\n",
       "    .dataframe tbody tr th {\n",
       "        vertical-align: top;\n",
       "    }\n",
       "\n",
       "    .dataframe thead th {\n",
       "        text-align: right;\n",
       "    }\n",
       "</style>\n",
       "<table border=\"1\" class=\"dataframe\">\n",
       "  <thead>\n",
       "    <tr style=\"text-align: right;\">\n",
       "      <th></th>\n",
       "      <th>0</th>\n",
       "    </tr>\n",
       "  </thead>\n",
       "  <tbody>\n",
       "    <tr>\n",
       "      <th>0</th>\n",
       "      <td>4</td>\n",
       "    </tr>\n",
       "    <tr>\n",
       "      <th>1</th>\n",
       "      <td>5</td>\n",
       "    </tr>\n",
       "  </tbody>\n",
       "</table>\n",
       "</div>"
      ],
      "text/plain": [
       "   0\n",
       "0  4\n",
       "1  5"
      ]
     },
     "execution_count": 3,
     "metadata": {},
     "output_type": "execute_result"
    }
   ],
   "source": [
    "data = [4, 5, 2, 3, 5, 4, 3, 2, 4, 5]\n",
    "\n",
    "pd.DataFrame(data).mode()"
   ]
  },
  {
   "cell_type": "markdown",
   "id": "70c49223",
   "metadata": {},
   "source": [
    "**3. Scenario:** A company wants to compare the salaries of two departments. The salary data for Department A and Department B are as follows:\n",
    "   \n",
    "   **Department A:** [5000, 6000, 5500, 7000]\n",
    "   \n",
    "   **Department B:** [4500, 5500, 5800, 6000, 5200]\n",
    "   \n",
    "Calculate the **median salary for each department**."
   ]
  },
  {
   "cell_type": "code",
   "execution_count": 4,
   "id": "9784f9a7",
   "metadata": {},
   "outputs": [
    {
     "name": "stdout",
     "output_type": "stream",
     "text": [
      "The median salary for Department A is 5750.0.\n",
      "The median salary for Department B is 5500.0.\n"
     ]
    }
   ],
   "source": [
    "dfA = pd.DataFrame({\"Salary\": [5000, 6000, 5500, 7000]})\n",
    "\n",
    "medianSalaryA = dfA[\"Salary\"].median()\n",
    "\n",
    "dfB = pd.DataFrame({\"Salary\": [4500, 5500, 5800, 6000, 5200]})\n",
    "\n",
    "medianSalaryB = dfB[\"Salary\"].median()\n",
    "\n",
    "print(f\"The median salary for Department A is {medianSalaryA}.\")\n",
    "\n",
    "print(f\"The median salary for Department B is {medianSalaryB}.\")"
   ]
  },
  {
   "cell_type": "markdown",
   "id": "e6016bca",
   "metadata": {},
   "source": [
    "**4. Scenario:** A data analyst wants to determine the variability in the daily stock prices of a company. The data collected is as follows:\n",
    "   \n",
    "   [25.5, 24.8, 26.1, 25.3, 24.9]\n",
    "   \n",
    "Calculate the **range of the stock prices**."
   ]
  },
  {
   "cell_type": "code",
   "execution_count": 5,
   "id": "4cba84fa",
   "metadata": {},
   "outputs": [
    {
     "name": "stdout",
     "output_type": "stream",
     "text": [
      "The range of the stock prices is 1.3\n"
     ]
    }
   ],
   "source": [
    "def stockPriceRange(stockPrices):\n",
    "\n",
    "    highestPrice = max(stockPrices)\n",
    "    \n",
    "    lowestPrice = min(stockPrices)\n",
    "    \n",
    "    priceRange = highestPrice - lowestPrice\n",
    "\n",
    "    return priceRange\n",
    "\n",
    "stockPrices = [25.5, 24.8, 26.1, 25.3, 24.9]\n",
    "\n",
    "priceRange = stockPriceRange(stockPrices)\n",
    "\n",
    "print(f\"The range of the stock prices is {round(priceRange, 2)}\")"
   ]
  },
  {
   "cell_type": "markdown",
   "id": "0d80e83d",
   "metadata": {},
   "source": [
    "**5. Scenario:** A study is conducted to compare the performance of two different teaching methods. The test scores of the students in each group are as follows:\n",
    "   \n",
    "   **Group A:** [85, 90, 92, 88, 91]\n",
    "   \n",
    "   **Group B:** [82, 88, 90, 86, 87]\n",
    "   \n",
    "Perform a **t-test** to determine if there is a **significant difference in the mean scores between the two groups**."
   ]
  },
  {
   "cell_type": "code",
   "execution_count": 6,
   "id": "0eb87ee6",
   "metadata": {},
   "outputs": [],
   "source": [
    "import scipy.stats as stats"
   ]
  },
  {
   "cell_type": "code",
   "execution_count": 7,
   "id": "8062614a",
   "metadata": {},
   "outputs": [
    {
     "name": "stdout",
     "output_type": "stream",
     "text": [
      "T-statistic: 1.4312528946642733\n",
      "P-value: 0.19023970239078333\n"
     ]
    }
   ],
   "source": [
    "group_A_scores = [85, 90, 92, 88, 91]\n",
    "\n",
    "group_B_scores = [82, 88, 90, 86, 87]\n",
    "\n",
    "tStatistic, pValue = stats.ttest_ind(group_A_scores, group_B_scores)\n",
    "\n",
    "print(\"T-statistic:\", tStatistic)\n",
    "\n",
    "print(\"P-value:\", pValue)"
   ]
  },
  {
   "cell_type": "markdown",
   "id": "eb5592e0",
   "metadata": {},
   "source": [
    "**6. Scenario:** A company wants to analyze the relationship between advertising expenditure and sales. The data collected is as follows:\n",
    "   \n",
    "   **Advertising Expenditure (in thousands):** [10, 15, 12, 8, 14]\n",
    "   \n",
    "   **Sales (in thousands):** [25, 30, 28, 20, 26]\n",
    "\n",
    "Calculate the **correlation coefficient between advertising expenditure and sales**."
   ]
  },
  {
   "cell_type": "code",
   "execution_count": 8,
   "id": "036867fa",
   "metadata": {},
   "outputs": [
    {
     "name": "stdout",
     "output_type": "stream",
     "text": [
      "Correlation coefficient: 0.8757511375750132\n"
     ]
    }
   ],
   "source": [
    "expenditure = [10, 15, 12, 8, 14]\n",
    "\n",
    "sales = [25, 30, 28, 20, 26]\n",
    "\n",
    "data = pd.DataFrame({'Expenditure': expenditure, 'Sales': sales})\n",
    "\n",
    "correlationCoefficient = data['Expenditure'].corr(data['Sales'])\n",
    "\n",
    "print(\"Correlation coefficient:\", correlationCoefficient)"
   ]
  },
  {
   "cell_type": "markdown",
   "id": "f6839202",
   "metadata": {},
   "source": [
    "**7. Scenario:** A survey is conducted to measure the heights of a group of people. The data collected is as follows:\n",
    "   \n",
    "   [160, 170, 165, 155, 175, 180, 170]\n",
    "   \n",
    "Calculate the **standard deviation of the heights**."
   ]
  },
  {
   "cell_type": "code",
   "execution_count": 9,
   "id": "2a71ba67",
   "metadata": {},
   "outputs": [
    {
     "name": "stdout",
     "output_type": "stream",
     "text": [
      "Standard deviation: 8.591246929842246\n"
     ]
    }
   ],
   "source": [
    "heights = [160, 170, 165, 155, 175, 180, 170]\n",
    "\n",
    "data = pd.Series(heights)\n",
    "\n",
    "standardDeviation = data.std()\n",
    "\n",
    "print(\"Standard deviation:\", standardDeviation)"
   ]
  },
  {
   "cell_type": "markdown",
   "id": "940754d9",
   "metadata": {},
   "source": [
    "**8. Scenario:** A company wants to analyze the relationship between employee tenure and job satisfaction. The data collected is as follows:\n",
    "   \n",
    "   **Employee Tenure (in years):** [2, 3, 5, 4, 6, 2, 4]\n",
    "   \n",
    "   **Job Satisfaction (on a scale of 1 to 10):** [7, 8, 6, 9, 5, 7, 6]\n",
    "   \n",
    "Perform a **linear regression analysis to predict job satisfaction based on employee tenure**."
   ]
  },
  {
   "cell_type": "code",
   "execution_count": 10,
   "id": "3b676e64",
   "metadata": {},
   "outputs": [
    {
     "name": "stdout",
     "output_type": "stream",
     "text": [
      "                            OLS Regression Results                            \n",
      "==============================================================================\n",
      "Dep. Variable:           Satisfaction   R-squared:                       0.271\n",
      "Model:                            OLS   Adj. R-squared:                  0.125\n",
      "Method:                 Least Squares   F-statistic:                     1.859\n",
      "Date:                Fri, 21 Jul 2023   Prob (F-statistic):              0.231\n",
      "Time:                        22:27:42   Log-Likelihood:                -10.362\n",
      "No. Observations:                   7   AIC:                             24.72\n",
      "Df Residuals:                       5   BIC:                             24.62\n",
      "Df Model:                           1                                         \n",
      "Covariance Type:            nonrobust                                         \n",
      "==============================================================================\n",
      "                 coef    std err          t      P>|t|      [0.025      0.975]\n",
      "------------------------------------------------------------------------------\n",
      "const          8.5957      1.361      6.316      0.001       5.097      12.094\n",
      "Tenure        -0.4681      0.343     -1.363      0.231      -1.351       0.414\n",
      "==============================================================================\n",
      "Omnibus:                          nan   Durbin-Watson:                   2.414\n",
      "Prob(Omnibus):                    nan   Jarque-Bera (JB):                1.954\n",
      "Skew:                           1.292   Prob(JB):                        0.376\n",
      "Kurtosis:                       3.166   Cond. No.                         12.0\n",
      "==============================================================================\n",
      "\n",
      "Notes:\n",
      "[1] Standard Errors assume that the covariance matrix of the errors is correctly specified.\n"
     ]
    },
    {
     "name": "stderr",
     "output_type": "stream",
     "text": [
      "C:\\Users\\Guddu_2\\AppData\\Local\\Programs\\Python\\Python311\\Lib\\site-packages\\statsmodels\\stats\\stattools.py:74: ValueWarning: omni_normtest is not valid with less than 8 observations; 7 samples were given.\n",
      "  warn(\"omni_normtest is not valid with less than 8 observations; %i \"\n"
     ]
    }
   ],
   "source": [
    "import statsmodels.api as sm\n",
    "\n",
    "tenure = [2, 3, 5, 4, 6, 2, 4]\n",
    "\n",
    "satisfaction = [7, 8, 6, 9, 5, 7, 6]\n",
    "\n",
    "data = pd.DataFrame({'Tenure': tenure, 'Satisfaction': satisfaction})\n",
    "\n",
    "data = sm.add_constant(data)\n",
    "\n",
    "model = sm.OLS(data['Satisfaction'], data[['const', 'Tenure']])\n",
    "\n",
    "results = model.fit()\n",
    "\n",
    "print(results.summary())"
   ]
  },
  {
   "cell_type": "markdown",
   "id": "92e7c56a",
   "metadata": {},
   "source": [
    "**9. Scenario:** A study is conducted to compare the effectiveness of two different medications. The recovery times of the patients in each group are as follows:\n",
    "   \n",
    "   **Medication A:** [10, 12, 14, 11, 13]\n",
    "   \n",
    "   **Medication B:** [15, 17, 16, 14, 18]\n",
    "   \n",
    "Perform an **analysis of variance (ANOVA) to determine if there is a significant difference in the mean recovery times between the two medications**."
   ]
  },
  {
   "cell_type": "code",
   "execution_count": 11,
   "id": "1a074012",
   "metadata": {},
   "outputs": [
    {
     "name": "stdout",
     "output_type": "stream",
     "text": [
      "F-statistic: 16.0\n",
      "P-value: 0.003949772803445326\n"
     ]
    }
   ],
   "source": [
    "medication_A_times = [10, 12, 14, 11, 13]\n",
    "medication_B_times = [15, 17, 16, 14, 18]\n",
    "\n",
    "fStatistic, pValue = stats.f_oneway(medication_A_times, medication_B_times)\n",
    "\n",
    "print(\"F-statistic:\", fStatistic)\n",
    "print(\"P-value:\", pValue)"
   ]
  },
  {
   "cell_type": "code",
   "execution_count": 12,
   "id": "ec9dc661",
   "metadata": {},
   "outputs": [],
   "source": [
    "import numpy as np"
   ]
  },
  {
   "cell_type": "markdown",
   "id": "d63be557",
   "metadata": {},
   "source": [
    "**10. Scenario:** A company wants to analyze customer feedback ratings on a scale of 1 to 10. The data collected is as follows:\n",
    "    \n",
    "   [8, 9, 7, 6, 8, 10, 9, 8, 7, 8]\n",
    "    \n",
    "Calculate the **75th percentile of the feedback ratings**."
   ]
  },
  {
   "cell_type": "code",
   "execution_count": 13,
   "id": "e081af43",
   "metadata": {},
   "outputs": [
    {
     "name": "stdout",
     "output_type": "stream",
     "text": [
      "75th percentile: 8.75\n"
     ]
    }
   ],
   "source": [
    "ratings = [8, 9, 7, 6, 8, 10, 9, 8, 7, 8]\n",
    "\n",
    "percentile_75 = np.percentile(ratings, 75)\n",
    "\n",
    "print(\"75th percentile:\", percentile_75)"
   ]
  },
  {
   "cell_type": "markdown",
   "id": "872df45a",
   "metadata": {},
   "source": [
    "**11. Scenario:** A quality control department wants to test the weight consistency of a product. The weights of a sample of products are as follows:\n",
    "    \n",
    "   [10.2, 9.8, 10.0, 10.5, 10.3, 10.1]\n",
    "    \n",
    "Perform a **hypothesis test to determine if the mean weight differs significantly from 10 grams**."
   ]
  },
  {
   "cell_type": "code",
   "execution_count": 14,
   "id": "848c5970",
   "metadata": {},
   "outputs": [
    {
     "name": "stdout",
     "output_type": "stream",
     "text": [
      "T-statistic: 1.5126584522688367\n",
      "P-value: 0.19077595151110102\n"
     ]
    }
   ],
   "source": [
    "weights = [10.2, 9.8, 10.0, 10.5, 10.3, 10.1]\n",
    "\n",
    "tStatistic, pValue = stats.ttest_1samp(weights, 10)\n",
    "\n",
    "print(\"T-statistic:\", tStatistic)\n",
    "\n",
    "print(\"P-value:\", pValue)"
   ]
  },
  {
   "cell_type": "markdown",
   "id": "94d45568",
   "metadata": {},
   "source": [
    "**12. Scenario:** A company wants to analyze the click-through rates of two different website designs. The number of clicks for each design is as follows:\n",
    "    \n",
    "   **Design A:** [100, 120, 110, 90, 95]\n",
    "    \n",
    "   **Design B:** [80, 85, 90, 95, 100]\n",
    "\n",
    "Perform a **chi-square test to determine if there is a significant difference in the click-through rates between the two designs**."
   ]
  },
  {
   "cell_type": "code",
   "execution_count": 15,
   "id": "6d73a41f",
   "metadata": {},
   "outputs": [
    {
     "name": "stdout",
     "output_type": "stream",
     "text": [
      "Chi-square statistic: [2.22222222 5.97560976 2.         0.13513514 0.12820513]\n",
      "P-value: [0.13603713 0.01450507 0.15729921 0.71316606 0.72030033]\n"
     ]
    }
   ],
   "source": [
    "design_A_clicks = [100, 120, 110, 90, 95]\n",
    "\n",
    "design_B_clicks = [80, 85, 90, 95, 100]\n",
    "\n",
    "chi2Statistic, pValue = stats.chisquare([design_A_clicks, design_B_clicks])\n",
    "\n",
    "print(\"Chi-square statistic:\", chi2Statistic)\n",
    "\n",
    "print(\"P-value:\", pValue)"
   ]
  },
  {
   "cell_type": "markdown",
   "id": "3bbb773c",
   "metadata": {},
   "source": [
    "**13. Scenario:** A survey is conducted to measure customer satisfaction with a product on a scale of 1 to 10. The data collected is as follows:\n",
    "    \n",
    "   [7, 9, 6, 8, 10, 7, 8, 9, 7, 8]\n",
    "    \n",
    "Calculate the **95% confidence interval for the population mean satisfaction score**."
   ]
  },
  {
   "cell_type": "code",
   "execution_count": 16,
   "id": "73d32510",
   "metadata": {},
   "outputs": [
    {
     "name": "stdout",
     "output_type": "stream",
     "text": [
      "95% Confidence Interval: (7.043561120599888, 8.756438879400113)\n"
     ]
    }
   ],
   "source": [
    "scores = [7, 9, 6, 8, 10, 7, 8, 9, 7, 8]\n",
    "\n",
    "confidenceInterval = stats.t.interval(0.95, len(scores) - 1, loc = np.mean(scores), scale = stats.sem(scores))\n",
    "\n",
    "print(\"95% Confidence Interval:\", confidenceInterval)"
   ]
  },
  {
   "cell_type": "markdown",
   "id": "7ac30619",
   "metadata": {},
   "source": [
    "**14. Scenario:** A company wants to analyze the effect of temperature on product performance. The data collected is as follows:\n",
    "    \n",
    "   **Temperature (in degrees Celsius):** [20, 22, 23, 19, 21]\n",
    "    \n",
    "   **Performance (on a scale of 1 to 10):** [8, 7, 9, 6, 8]\n",
    "    \n",
    "Perform a simple **linear regression to predict performance based on temperature**."
   ]
  },
  {
   "cell_type": "code",
   "execution_count": 17,
   "id": "683cbd9a",
   "metadata": {},
   "outputs": [
    {
     "name": "stdout",
     "output_type": "stream",
     "text": [
      "                            OLS Regression Results                            \n",
      "==============================================================================\n",
      "Dep. Variable:            Performance   R-squared:                       0.481\n",
      "Model:                            OLS   Adj. R-squared:                  0.308\n",
      "Method:                 Least Squares   F-statistic:                     2.778\n",
      "Date:                Fri, 21 Jul 2023   Prob (F-statistic):              0.194\n",
      "Time:                        22:27:42   Log-Likelihood:                -5.5542\n",
      "No. Observations:                   5   AIC:                             15.11\n",
      "Df Residuals:                       3   BIC:                             14.33\n",
      "Df Model:                           1                                         \n",
      "Covariance Type:            nonrobust                                         \n",
      "===============================================================================\n",
      "                  coef    std err          t      P>|t|      [0.025      0.975]\n",
      "-------------------------------------------------------------------------------\n",
      "const          -2.9000      6.314     -0.459      0.677     -22.995      17.195\n",
      "Temperature     0.5000      0.300      1.667      0.194      -0.455       1.455\n",
      "==============================================================================\n",
      "Omnibus:                          nan   Durbin-Watson:                   3.056\n",
      "Prob(Omnibus):                    nan   Jarque-Bera (JB):                0.522\n",
      "Skew:                          -0.348   Prob(JB):                        0.770\n",
      "Kurtosis:                       1.578   Cond. No.                         314.\n",
      "==============================================================================\n",
      "\n",
      "Notes:\n",
      "[1] Standard Errors assume that the covariance matrix of the errors is correctly specified.\n"
     ]
    },
    {
     "name": "stderr",
     "output_type": "stream",
     "text": [
      "C:\\Users\\Guddu_2\\AppData\\Local\\Programs\\Python\\Python311\\Lib\\site-packages\\statsmodels\\stats\\stattools.py:74: ValueWarning: omni_normtest is not valid with less than 8 observations; 5 samples were given.\n",
      "  warn(\"omni_normtest is not valid with less than 8 observations; %i \"\n"
     ]
    }
   ],
   "source": [
    "temperature = [20, 22, 23, 19, 21]\n",
    "\n",
    "performance = [8, 7, 9, 6, 8]\n",
    "\n",
    "data = pd.DataFrame({'Temperature': temperature, 'Performance': performance})\n",
    "\n",
    "data = sm.add_constant(data)\n",
    "\n",
    "model = sm.OLS(data['Performance'], data[['const', 'Temperature']])\n",
    "\n",
    "results = model.fit()\n",
    "\n",
    "print(results.summary())"
   ]
  },
  {
   "cell_type": "markdown",
   "id": "fa41ce30",
   "metadata": {},
   "source": [
    "**15. Scenario:** A study is conducted to compare the preferences of two groups of participants. The preferences are measured on a Likert scale from 1 to 5. The data collected is as follows:\n",
    "    \n",
    "   **Group A:** [4, 3, 5, 2, 4]\n",
    "    \n",
    "   **Group B:** [3, 2, 4, 3, 3]\n",
    "    \n",
    "Perform a **Mann-Whitney U test to determine if there is a significant difference in the median preferences between the two groups**."
   ]
  },
  {
   "cell_type": "code",
   "execution_count": 18,
   "id": "3cab9b7b",
   "metadata": {},
   "outputs": [
    {
     "name": "stdout",
     "output_type": "stream",
     "text": [
      "U-statistic: 17.0\n",
      "P-value: 0.380836480306712\n"
     ]
    }
   ],
   "source": [
    "group_A_preferences = [4, 3, 5, 2, 4]\n",
    "\n",
    "group_B_preferences = [3, 2, 4, 3, 3]\n",
    "\n",
    "uStatistic, pValue = stats.mannwhitneyu(group_A_preferences, group_B_preferences)\n",
    "\n",
    "print(\"U-statistic:\", uStatistic)\n",
    "\n",
    "print(\"P-value:\", pValue)"
   ]
  },
  {
   "cell_type": "markdown",
   "id": "f402ee29",
   "metadata": {},
   "source": [
    "**16. Scenario:** A company wants to analyze the distribution of customer ages. The data collected is as follows:\n",
    "    \n",
    "   [25, 30, 35, 40, 45, 50, 55, 60, 65, 70]\n",
    "    \n",
    "Calculate the **interquartile range (IQR) of the ages**."
   ]
  },
  {
   "cell_type": "code",
   "execution_count": 19,
   "id": "eb963ce5",
   "metadata": {},
   "outputs": [
    {
     "name": "stdout",
     "output_type": "stream",
     "text": [
      "Interquartile Range (IQR): 22.5\n"
     ]
    }
   ],
   "source": [
    "ages = [25, 30, 35, 40, 45, 50, 55, 60, 65, 70]\n",
    "\n",
    "iqr = np.percentile(ages, 75) - np.percentile(ages, 25)\n",
    "\n",
    "print(\"Interquartile Range (IQR):\", iqr)"
   ]
  },
  {
   "cell_type": "markdown",
   "id": "41fa566c",
   "metadata": {},
   "source": [
    "**17. Scenario:** A study is conducted to compare the performance of three different machine learning algorithms. The accuracy scores for each algorithm are as follows:\n",
    "    \n",
    "   **Algorithm A:** [0.85, 0.80, 0.82, 0.87, 0.83]\n",
    "    \n",
    "   **Algorithm B:** [0.78, 0.82, 0.84, 0.80, 0.79]\n",
    "    \n",
    "   **Algorithm C:** [0.90, 0.88, 0.89, 0.86, 0.87]\n",
    "    \n",
    "Perform a **Kruskal-Wallis test to determine if there is a significant difference in the median accuracy scores between the algorithms**."
   ]
  },
  {
   "cell_type": "code",
   "execution_count": 20,
   "id": "c0ad1a56",
   "metadata": {},
   "outputs": [
    {
     "name": "stdout",
     "output_type": "stream",
     "text": [
      "H-statistic: 9.696947935368053\n",
      "P-value: 0.007840333026249539\n"
     ]
    }
   ],
   "source": [
    "algorithm_A_scores = [0.85, 0.80, 0.82, 0.87, 0.83]\n",
    "\n",
    "algorithm_B_scores = [0.78, 0.82, 0.84, 0.80, 0.79]\n",
    "\n",
    "algorithm_C_scores = [0.90, 0.88, 0.89, 0.86, 0.87]\n",
    "\n",
    "hStatistic, pValue = stats.kruskal(algorithm_A_scores, algorithm_B_scores, algorithm_C_scores)\n",
    "\n",
    "print(\"H-statistic:\", hStatistic)\n",
    "\n",
    "print(\"P-value:\", pValue)"
   ]
  },
  {
   "cell_type": "markdown",
   "id": "30ce0971",
   "metadata": {},
   "source": [
    "**18. Scenario:** A company wants to analyze the effect of price on sales. The data collected is as follows:\n",
    "    \n",
    "   **Price (in dollars):** [10, 15, 12, 8, 14]\n",
    "    \n",
    "   **Sales:** [100, 80, 90, 110, 95]\n",
    "    \n",
    "Perform a simple **linear regression to predict sales based on price**."
   ]
  },
  {
   "cell_type": "code",
   "execution_count": 21,
   "id": "05e271b1",
   "metadata": {},
   "outputs": [
    {
     "name": "stdout",
     "output_type": "stream",
     "text": [
      "                            OLS Regression Results                            \n",
      "==============================================================================\n",
      "Dep. Variable:                  Sales   R-squared:                       0.806\n",
      "Model:                            OLS   Adj. R-squared:                  0.742\n",
      "Method:                 Least Squares   F-statistic:                     12.50\n",
      "Date:                Fri, 21 Jul 2023   Prob (F-statistic):             0.0385\n",
      "Time:                        22:27:42   Log-Likelihood:                -14.503\n",
      "No. Observations:                   5   AIC:                             33.01\n",
      "Df Residuals:                       3   BIC:                             32.22\n",
      "Df Model:                           1                                         \n",
      "Covariance Type:            nonrobust                                         \n",
      "==============================================================================\n",
      "                 coef    std err          t      P>|t|      [0.025      0.975]\n",
      "------------------------------------------------------------------------------\n",
      "const        136.3720     11.976     11.387      0.001      98.259     174.485\n",
      "Price         -3.5061      0.992     -3.535      0.039      -6.663      -0.350\n",
      "==============================================================================\n",
      "Omnibus:                          nan   Durbin-Watson:                   0.811\n",
      "Prob(Omnibus):                    nan   Jarque-Bera (JB):                0.632\n",
      "Skew:                           0.770   Prob(JB):                        0.729\n",
      "Kurtosis:                       2.186   Cond. No.                         57.3\n",
      "==============================================================================\n",
      "\n",
      "Notes:\n",
      "[1] Standard Errors assume that the covariance matrix of the errors is correctly specified.\n"
     ]
    },
    {
     "name": "stderr",
     "output_type": "stream",
     "text": [
      "C:\\Users\\Guddu_2\\AppData\\Local\\Programs\\Python\\Python311\\Lib\\site-packages\\statsmodels\\stats\\stattools.py:74: ValueWarning: omni_normtest is not valid with less than 8 observations; 5 samples were given.\n",
      "  warn(\"omni_normtest is not valid with less than 8 observations; %i \"\n"
     ]
    }
   ],
   "source": [
    "price = [10, 15, 12, 8, 14]\n",
    "\n",
    "sales = [100, 80, 90, 110, 95]\n",
    "\n",
    "data = pd.DataFrame({'Price': price, 'Sales': sales})\n",
    "\n",
    "data = sm.add_constant(data)\n",
    "\n",
    "model = sm.OLS(data['Sales'], data[['const', 'Price']])\n",
    "\n",
    "results = model.fit()\n",
    "\n",
    "print(results.summary())"
   ]
  },
  {
   "cell_type": "markdown",
   "id": "be36790f",
   "metadata": {},
   "source": [
    "**19. Scenario:** A survey is conducted to measure the satisfaction levels of customers with a new product. The data collected is as follows:\n",
    "    \n",
    "   [7, 8, 9, 6, 8, 7, 9, 7, 8, 7]\n",
    "    \n",
    "Calculate the **standard error of the mean satisfaction score**."
   ]
  },
  {
   "cell_type": "code",
   "execution_count": 22,
   "id": "6d00ab73",
   "metadata": {},
   "outputs": [
    {
     "name": "stdout",
     "output_type": "stream",
     "text": [
      "Standard Error: 0.30550504633038933\n"
     ]
    }
   ],
   "source": [
    "scores = [7, 8, 9, 6, 8, 7, 9, 7, 8, 7]\n",
    "\n",
    "standardError = stats.sem(scores)\n",
    "\n",
    "print(\"Standard Error:\", standardError)"
   ]
  },
  {
   "cell_type": "markdown",
   "id": "d3159987",
   "metadata": {},
   "source": [
    "**20. Scenario:** A company wants to analyze the relationship between advertising expenditure and sales. The data collected is as follows:\n",
    "    \n",
    "   **Advertising Expenditure (in thousands):** [10, 15, 12, 8, 14]\n",
    "    \n",
    "   **Sales (in thousands):** [25, 30, 28, 20, 26]\n",
    "    \n",
    "Perform a **multiple regression analysis to predict sales based on advertising expenditure**."
   ]
  },
  {
   "cell_type": "code",
   "execution_count": 23,
   "id": "f00cb5ed",
   "metadata": {},
   "outputs": [
    {
     "name": "stdout",
     "output_type": "stream",
     "text": [
      "                            OLS Regression Results                            \n",
      "==============================================================================\n",
      "Dep. Variable:                  Sales   R-squared:                       0.767\n",
      "Model:                            OLS   Adj. R-squared:                  0.689\n",
      "Method:                 Least Squares   F-statistic:                     9.872\n",
      "Date:                Fri, 21 Jul 2023   Prob (F-statistic):             0.0516\n",
      "Time:                        22:27:42   Log-Likelihood:                -9.5288\n",
      "No. Observations:                   5   AIC:                             23.06\n",
      "Df Residuals:                       3   BIC:                             22.28\n",
      "Df Model:                           1                                         \n",
      "Covariance Type:            nonrobust                                         \n",
      "===============================================================================\n",
      "                  coef    std err          t      P>|t|      [0.025      0.975]\n",
      "-------------------------------------------------------------------------------\n",
      "const          12.2012      4.429      2.755      0.070      -1.893      26.296\n",
      "Expenditure     1.1524      0.367      3.142      0.052      -0.015       2.320\n",
      "==============================================================================\n",
      "Omnibus:                          nan   Durbin-Watson:                   1.136\n",
      "Prob(Omnibus):                    nan   Jarque-Bera (JB):                0.546\n",
      "Skew:                          -0.267   Prob(JB):                        0.761\n",
      "Kurtosis:                       1.471   Cond. No.                         57.3\n",
      "==============================================================================\n",
      "\n",
      "Notes:\n",
      "[1] Standard Errors assume that the covariance matrix of the errors is correctly specified.\n"
     ]
    },
    {
     "name": "stderr",
     "output_type": "stream",
     "text": [
      "C:\\Users\\Guddu_2\\AppData\\Local\\Programs\\Python\\Python311\\Lib\\site-packages\\statsmodels\\stats\\stattools.py:74: ValueWarning: omni_normtest is not valid with less than 8 observations; 5 samples were given.\n",
      "  warn(\"omni_normtest is not valid with less than 8 observations; %i \"\n"
     ]
    }
   ],
   "source": [
    "expenditure = [10, 15, 12, 8, 14]\n",
    "\n",
    "sales = [25, 30, 28, 20, 26]\n",
    "\n",
    "data = pd.DataFrame({'Expenditure': expenditure, 'Sales': sales})\n",
    "\n",
    "data = sm.add_constant(data)\n",
    "\n",
    "model = sm.OLS(data['Sales'], data[['const', 'Expenditure']])\n",
    "\n",
    "results = model.fit()\n",
    "\n",
    "print(results.summary())"
   ]
  }
 ],
 "metadata": {
  "kernelspec": {
   "display_name": "Python 3 (ipykernel)",
   "language": "python",
   "name": "python3"
  },
  "language_info": {
   "codemirror_mode": {
    "name": "ipython",
    "version": 3
   },
   "file_extension": ".py",
   "mimetype": "text/x-python",
   "name": "python",
   "nbconvert_exporter": "python",
   "pygments_lexer": "ipython3",
   "version": "3.11.0"
  }
 },
 "nbformat": 4,
 "nbformat_minor": 5
}
